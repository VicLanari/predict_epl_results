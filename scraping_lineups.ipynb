{
 "cells": [
  {
   "cell_type": "code",
   "execution_count": 10,
   "metadata": {},
   "outputs": [],
   "source": [
    "from bs4 import BeautifulSoup\n",
    "import requests"
   ]
  },
  {
   "cell_type": "code",
   "execution_count": 5,
   "metadata": {},
   "outputs": [],
   "source": [
    "url = \"https://www.besoccer.com/team/squad/manchester-city-fc\""
   ]
  },
  {
   "cell_type": "code",
   "execution_count": 11,
   "metadata": {},
   "outputs": [],
   "source": [
    "response = requests.get(url)"
   ]
  },
  {
   "cell_type": "code",
   "execution_count": 34,
   "metadata": {},
   "outputs": [],
   "source": [
    "soup = BeautifulSoup(response.content, 'html.parser')"
   ]
  },
  {
   "cell_type": "code",
   "execution_count": 35,
   "metadata": {},
   "outputs": [],
   "source": [
    "table = soup.find_all('tr', class_='row-body')"
   ]
  },
  {
   "cell_type": "code",
   "execution_count": 41,
   "metadata": {},
   "outputs": [],
   "source": [
    "name = table[0].find_all('td', class_ = 'name')\n"
   ]
  },
  {
   "cell_type": "code",
   "execution_count": 48,
   "metadata": {},
   "outputs": [
    {
     "data": {
      "text/plain": [
       "'\\nEderson\\n'"
      ]
     },
     "execution_count": 48,
     "metadata": {},
     "output_type": "execute_result"
    }
   ],
   "source": [
    "name[0].get_text()"
   ]
  },
  {
   "cell_type": "code",
   "execution_count": 51,
   "metadata": {},
   "outputs": [],
   "source": [
    "name_dct = {}"
   ]
  },
  {
   "cell_type": "code",
   "execution_count": 52,
   "metadata": {},
   "outputs": [],
   "source": [
    "for i in range(len(table)):\n",
    "    name_dct[f\"player_{i}\"] = table[i].find_all('td', class_ = 'name')"
   ]
  },
  {
   "cell_type": "code",
   "execution_count": 56,
   "metadata": {},
   "outputs": [
    {
     "ename": "IndexError",
     "evalue": "list index out of range",
     "output_type": "error",
     "traceback": [
      "\u001b[0;31m---------------------------------------------------------------------------\u001b[0m",
      "\u001b[0;31mIndexError\u001b[0m                                Traceback (most recent call last)",
      "\u001b[1;32m/Users/vicente/code/VicLanari/final-project-test/predict_epl_results/scraping_lineups.ipynb Cell 10\u001b[0m in \u001b[0;36m3\n\u001b[1;32m      <a href='vscode-notebook-cell:/Users/vicente/code/VicLanari/final-project-test/predict_epl_results/scraping_lineups.ipynb#X15sZmlsZQ%3D%3D?line=0'>1</a>\u001b[0m name_lis \u001b[39m=\u001b[39m []\n\u001b[1;32m      <a href='vscode-notebook-cell:/Users/vicente/code/VicLanari/final-project-test/predict_epl_results/scraping_lineups.ipynb#X15sZmlsZQ%3D%3D?line=1'>2</a>\u001b[0m \u001b[39mfor\u001b[39;00m name \u001b[39min\u001b[39;00m name_dct\u001b[39m.\u001b[39mvalues():\n\u001b[0;32m----> <a href='vscode-notebook-cell:/Users/vicente/code/VicLanari/final-project-test/predict_epl_results/scraping_lineups.ipynb#X15sZmlsZQ%3D%3D?line=2'>3</a>\u001b[0m     name_lis\u001b[39m.\u001b[39mappend(name[\u001b[39m0\u001b[39;49m]\u001b[39m.\u001b[39mget_text())\n",
      "\u001b[0;31mIndexError\u001b[0m: list index out of range"
     ]
    }
   ],
   "source": [
    "name_lis = []\n",
    "for name in name_dct.values():\n",
    "    name_lis.append(name[0].get_text())"
   ]
  },
  {
   "cell_type": "code",
   "execution_count": 60,
   "metadata": {},
   "outputs": [],
   "source": [
    "name_lis = [name.strip(\"\\n\") for name in name_lis]"
   ]
  },
  {
   "cell_type": "code",
   "execution_count": 61,
   "metadata": {},
   "outputs": [
    {
     "data": {
      "text/plain": [
       "['Ederson',\n",
       " 'S. Ortega',\n",
       " 'S. Carson',\n",
       " 'J. Stones',\n",
       " 'K. Walker',\n",
       " 'Rúben Dias',\n",
       " 'M. Akanji',\n",
       " 'N. Aké',\n",
       " 'S. Gómez',\n",
       " 'A. Laporte',\n",
       " 'B. Mendy',\n",
       " 'Rico Lewis',\n",
       " 'K. De Bruyne',\n",
       " 'Rodri',\n",
       " 'Bernardo Silva',\n",
       " 'I. Gündogan',\n",
       " 'P. Foden',\n",
       " 'K. Phillips',\n",
       " 'Maximo Perrone',\n",
       " 'C. Palmer',\n",
       " 'E. Haaland',\n",
       " 'R. Mahrez',\n",
       " 'J. Álvarez',\n",
       " 'J. Grealish',\n",
       " 'B. Knight']"
      ]
     },
     "execution_count": 61,
     "metadata": {},
     "output_type": "execute_result"
    }
   ],
   "source": [
    "name_lis"
   ]
  },
  {
   "cell_type": "code",
   "execution_count": 79,
   "metadata": {},
   "outputs": [],
   "source": [
    "url2 = 'https://www.fifaratings.com/team/manchester-city'"
   ]
  },
  {
   "cell_type": "code",
   "execution_count": 80,
   "metadata": {},
   "outputs": [],
   "source": [
    "results = requests.get(url2)"
   ]
  },
  {
   "cell_type": "code",
   "execution_count": 81,
   "metadata": {},
   "outputs": [],
   "source": [
    "soup2 = BeautifulSoup(results.content, 'html.parser')"
   ]
  },
  {
   "cell_type": "code",
   "execution_count": 194,
   "metadata": {},
   "outputs": [],
   "source": [
    "table = soup2.find_all('tr')"
   ]
  },
  {
   "cell_type": "code",
   "execution_count": 195,
   "metadata": {},
   "outputs": [
    {
     "data": {
      "text/plain": [
       "[<tr><th scope=\"col\">#</th><th scope=\"col\">Player</th><th class=\"underline-dotted\" data-placement=\"left\" data-toggle=\"tooltip\" scope=\"col\" title=\"Overall\">OVA</th><th class=\"underline-dotted\" data-placement=\"left\" data-toggle=\"tooltip\" scope=\"col\" title=\"Potential\">POT</th><th class=\"underline-dotted\" data-placement=\"left\" data-toggle=\"tooltip\" scope=\"col\" title=\"Total Stats\">STATS</th></tr>,\n",
       " <tr><td class=\"counter\"> 1.</td><td><div class=\"entries\"> <a href=\"https://www.fifaratings.com/kevin-de-bruyne\"><span class=\"entry-bg mr-1\"><img alt=\"Kevin De Bruyne\" class=\"position-relative entry-photo lazy\" data-src=\"https://www.fifaratings.com/wp-content/uploads/23_180-3-80x80.png\" src=\"/wp-content/uploads/1x1.png\" title=\"Kevin De Bruyne\"/></span></a><div class=\"all-star-badge-list\"> <img alt=\"Belgium\" src=\"https://www.fifaratings.com/wp-content/uploads/be-1.svg\" title=\"Belgium\"/></div> <span class=\"entry-font\"><a href=\"https://www.fifaratings.com/kevin-de-bruyne\" title=\"Kevin De Bruyne\">Kevin De Bruyne</a></span> <br/><div class=\"text-nowrap entry-subtext-font crop-subtext-font\"> #17  <a href=\"https://www.fifaratings.com/position/center-midfielder\" title=\"Center Midfielder\"> CM</a>  | 5'11\"\t\t\t\t\t\t\t\t\t\t\t\t\t\t\t\t| 154lbs</div></div></td><td><span class=\"91.00 attribute-box amethyst\">91</span></td><td><span class=\"91.00 attribute-box highest\">91</span></td><td><span class=\"2,298.00 attribute-box highest\">2,298</span></td></tr>,\n",
       " <tr><td class=\"counter\"> 2.</td><td><div class=\"entries\"> <a href=\"https://www.fifaratings.com/erling-haaland\"><span class=\"entry-bg mr-1\"><img alt=\"Erling Haaland\" class=\"position-relative entry-photo lazy\" data-src=\"https://www.fifaratings.com/wp-content/uploads/23_180-21-80x80.png\" src=\"/wp-content/uploads/1x1.png\" title=\"Erling Haaland\"/></span></a><div class=\"all-star-badge-list\"> <img alt=\"Norway\" src=\"https://www.fifaratings.com/wp-content/uploads/no-1.svg\" title=\"Norway\"/></div> <span class=\"entry-font\"><a href=\"https://www.fifaratings.com/erling-haaland\" title=\"Erling Haaland\">Erling Haaland</a></span> <br/><div class=\"text-nowrap entry-subtext-font crop-subtext-font\"> #9  <a href=\"https://www.fifaratings.com/position/striker\" title=\"Striker\"> ST</a>  | 6'5\"\t\t\t\t\t\t\t\t\t\t\t\t\t\t\t\t| 207lbs</div></div></td><td><span class=\"89.00 attribute-box ruby\">89</span></td><td><span class=\"94.00 attribute-box highest\">94</span></td><td><span class=\"2,123.00 attribute-box high\">2,123</span></td></tr>,\n",
       " <tr><td class=\"counter\"> 3.</td><td><div class=\"entries\"> <a href=\"https://www.fifaratings.com/ederson-santana-de-moraes\"><span class=\"entry-bg mr-1\"><img alt=\"Ederson Santana de Moraes\" class=\"position-relative entry-photo lazy\" data-src=\"https://www.fifaratings.com/wp-content/uploads/23_180-16-80x80.png\" src=\"/wp-content/uploads/1x1.png\" title=\"Ederson Santana de Moraes\"/></span></a><div class=\"all-star-badge-list\"> <img alt=\"Brazil\" src=\"https://www.fifaratings.com/wp-content/uploads/br-1.svg\" title=\"Brazil\"/></div> <span class=\"entry-font\"><a href=\"https://www.fifaratings.com/ederson-santana-de-moraes\" title=\"Ederson Santana de Moraes\">Ederson</a></span> <br/><div class=\"text-nowrap entry-subtext-font crop-subtext-font\"> #31  <a href=\"https://www.fifaratings.com/position/goalkeeper\" title=\"Goalkeeper\"> GK</a>  | 6'2\"\t\t\t\t\t\t\t\t\t\t\t\t\t\t\t\t| 190lbs</div></div></td><td><span class=\"89.00 attribute-box ruby\">89</span></td><td><span class=\"91.00 attribute-box highest\">91</span></td><td><span class=\"1,582.00 attribute-box low\">1,582</span></td></tr>,\n",
       " <tr><td class=\"counter\"> 4.</td><td><div class=\"entries\"> <a href=\"https://www.fifaratings.com/ruben-santos-gato-alves-dias\"><span class=\"entry-bg mr-1\"><img alt=\"Rúben Santos Gato Alves Dias\" class=\"position-relative entry-photo lazy\" data-src=\"https://www.fifaratings.com/wp-content/uploads/23_180-20-80x80.png\" src=\"/wp-content/uploads/1x1.png\" title=\"Rúben Santos Gato Alves Dias\"/></span></a><div class=\"all-star-badge-list\"> <img alt=\"Portugal\" src=\"https://www.fifaratings.com/wp-content/uploads/pt-1.svg\" title=\"Portugal\"/></div> <span class=\"entry-font\"><a href=\"https://www.fifaratings.com/ruben-santos-gato-alves-dias\" title=\"Rúben Santos Gato Alves Dias\">Rúben Dias</a></span> <br/><div class=\"text-nowrap entry-subtext-font crop-subtext-font\"> #3  <a href=\"https://www.fifaratings.com/position/center-back\" title=\"Center Back\"> CB</a>  | 6'2\"\t\t\t\t\t\t\t\t\t\t\t\t\t\t\t\t| 181lbs</div></div></td><td><span class=\"88.00 attribute-box ruby\">88</span></td><td><span class=\"91.00 attribute-box highest\">91</span></td><td><span class=\"1,894.00 attribute-box medium\">1,894</span></td></tr>,\n",
       " <tr><td class=\"counter\"> 5.</td><td><div class=\"entries\"> <a href=\"https://www.fifaratings.com/joao-pedro-cavaco-cancelo\"><span class=\"entry-bg mr-1\"><img alt=\"João Pedro Cavaco Cancelo\" class=\"position-relative entry-photo lazy\" data-src=\"https://www.fifaratings.com/wp-content/uploads/23_180-24-80x80.png\" src=\"/wp-content/uploads/1x1.png\" title=\"João Pedro Cavaco Cancelo\"/></span></a><div class=\"all-star-badge-list\"> <img alt=\"Portugal\" src=\"https://www.fifaratings.com/wp-content/uploads/pt-1.svg\" title=\"Portugal\"/></div> <span class=\"entry-font\"><a href=\"https://www.fifaratings.com/joao-pedro-cavaco-cancelo\" title=\"João Pedro Cavaco Cancelo\">João Cancelo</a></span> <br/><div class=\"text-nowrap entry-subtext-font crop-subtext-font\"> #7  <a href=\"https://www.fifaratings.com/position/left-back\" title=\"Left Back\"> LB</a>  | 6'0\"\t\t\t\t\t\t\t\t\t\t\t\t\t\t\t\t| 163lbs</div></div></td><td><span class=\"88.00 attribute-box ruby\">88</span></td><td><span class=\"88.00 attribute-box high\">88</span></td><td><span class=\"2,260.00 attribute-box highest\">2,260</span></td></tr>,\n",
       " <tr><td class=\"counter\"> 6.</td><td><div class=\"entries\"> <a href=\"https://www.fifaratings.com/bernardo-mota-carvalho-e-silva\"><span class=\"entry-bg mr-1\"><img alt=\"Bernardo Mota Carvalho e Silva\" class=\"position-relative entry-photo lazy\" data-src=\"https://www.fifaratings.com/wp-content/uploads/23_180-23-80x80.png\" src=\"/wp-content/uploads/1x1.png\" title=\"Bernardo Mota Carvalho e Silva\"/></span></a><div class=\"all-star-badge-list\"> <img alt=\"Portugal\" src=\"https://www.fifaratings.com/wp-content/uploads/pt-1.svg\" title=\"Portugal\"/></div> <span class=\"entry-font\"><a href=\"https://www.fifaratings.com/bernardo-mota-carvalho-e-silva\" title=\"Bernardo Mota Carvalho e Silva\">Bernardo Silva</a></span> <br/><div class=\"text-nowrap entry-subtext-font crop-subtext-font\"> #20  <a href=\"https://www.fifaratings.com/position/center-attacking-midfielder\" title=\"Center Attacking Midfielder\"> CAM</a>  | 5'8\"\t\t\t\t\t\t\t\t\t\t\t\t\t\t\t\t| 141lbs</div></div></td><td><span class=\"88.00 attribute-box ruby\">88</span></td><td><span class=\"88.00 attribute-box high\">88</span></td><td><span class=\"2,200.00 attribute-box highest\">2,200</span></td></tr>,\n",
       " <tr><td class=\"counter\"> 7.</td><td><div class=\"entries\"> <a href=\"https://www.fifaratings.com/rodrigo-hernandez-cascante\"><span class=\"entry-bg mr-1\"><img alt=\"Rodrigo Hernández Cascante\" class=\"position-relative entry-photo lazy\" data-src=\"https://www.fifaratings.com/wp-content/uploads/23_180-31-80x80.png\" src=\"/wp-content/uploads/1x1.png\" title=\"Rodrigo Hernández Cascante\"/></span></a><div class=\"all-star-badge-list\"> <img alt=\"Spain\" src=\"https://www.fifaratings.com/wp-content/uploads/es-1.svg\" title=\"Spain\"/></div> <span class=\"entry-font\"><a href=\"https://www.fifaratings.com/rodrigo-hernandez-cascante\" title=\"Rodrigo Hernández Cascante\">Rodri</a></span> <br/><div class=\"text-nowrap entry-subtext-font crop-subtext-font\"> #16  <a href=\"https://www.fifaratings.com/position/center-defensive-midfielder\" title=\"Center Defensive Midfielder\"> CDM</a>  | 6'3\"\t\t\t\t\t\t\t\t\t\t\t\t\t\t\t\t| 181lbs</div></div></td><td><span class=\"87.00 attribute-box ruby\">87</span></td><td><span class=\"89.00 attribute-box high\">89</span></td><td><span class=\"2,133.00 attribute-box high\">2,133</span></td></tr>,\n",
       " <tr><td class=\"counter\"> 8.</td><td><div class=\"entries\"> <a href=\"https://www.fifaratings.com/aymeric-laporte\"><span class=\"entry-bg mr-1\"><img alt=\"Aymeric Laporte\" class=\"position-relative entry-photo lazy\" data-src=\"https://www.fifaratings.com/wp-content/uploads/23_180-55-80x80.png\" src=\"/wp-content/uploads/1x1.png\" title=\"Aymeric Laporte\"/></span></a><div class=\"all-star-badge-list\"> <img alt=\"Spain\" src=\"https://www.fifaratings.com/wp-content/uploads/es-1.svg\" title=\"Spain\"/></div> <span class=\"entry-font\"><a href=\"https://www.fifaratings.com/aymeric-laporte\" title=\"Aymeric Laporte\">Aymeric Laporte</a></span> <br/><div class=\"text-nowrap entry-subtext-font crop-subtext-font\"> #14  <a href=\"https://www.fifaratings.com/position/center-back\" title=\"Center Back\"> CB</a>  | 6'3\"\t\t\t\t\t\t\t\t\t\t\t\t\t\t\t\t| 187lbs</div></div></td><td><span class=\"86.00 attribute-box sapphire\">86</span></td><td><span class=\"87.00 attribute-box high\">87</span></td><td><span class=\"1,962.00 attribute-box high\">1,962</span></td></tr>,\n",
       " <tr><td class=\"counter\"> 9.</td><td><div class=\"entries\"> <a href=\"https://www.fifaratings.com/phil-foden\"><span class=\"entry-bg mr-1\"><img alt=\"Phil Foden\" class=\"position-relative entry-photo lazy\" data-src=\"https://www.fifaratings.com/wp-content/uploads/23_180-83-80x80.png\" src=\"/wp-content/uploads/1x1.png\" title=\"Phil Foden\"/></span></a><div class=\"all-star-badge-list\"> <img alt=\"England\" src=\"https://www.fifaratings.com/wp-content/uploads/gb-eng-1.svg\" title=\"England\"/></div> <span class=\"entry-font\"><a href=\"https://www.fifaratings.com/phil-foden\" title=\"Phil Foden\">Phil Foden</a></span> <br/><div class=\"text-nowrap entry-subtext-font crop-subtext-font\"> #47  <a href=\"https://www.fifaratings.com/position/center-attacking-midfielder\" title=\"Center Attacking Midfielder\"> CAM</a>  | 5'7\"\t\t\t\t\t\t\t\t\t\t\t\t\t\t\t\t| 152lbs</div></div></td><td><span class=\"85.00 attribute-box sapphire\">85</span></td><td><span class=\"92.00 attribute-box highest\">92</span></td><td><span class=\"2,094.00 attribute-box high\">2,094</span></td></tr>,\n",
       " <tr><td class=\"counter\"> 10.</td><td><div class=\"entries\"> <a href=\"https://www.fifaratings.com/riyad-mahrez\"><span class=\"entry-bg mr-1\"><img alt=\"Riyad Mahrez\" class=\"position-relative entry-photo lazy\" data-src=\"https://www.fifaratings.com/wp-content/uploads/23_180-48-80x80.png\" src=\"/wp-content/uploads/1x1.png\" title=\"Riyad Mahrez\"/></span></a><div class=\"all-star-badge-list\"> <img alt=\"Algeria\" src=\"https://www.fifaratings.com/wp-content/uploads/dz-1.svg\" title=\"Algeria\"/></div> <span class=\"entry-font\"><a href=\"https://www.fifaratings.com/riyad-mahrez\" title=\"Riyad Mahrez\">Riyad Mahrez</a></span> <br/><div class=\"text-nowrap entry-subtext-font crop-subtext-font\"> #26  <a href=\"https://www.fifaratings.com/position/right-wing\" title=\"Right Wing\"> RW</a>  | 5'10\"\t\t\t\t\t\t\t\t\t\t\t\t\t\t\t\t| 148lbs</div></div></td><td><span class=\"85.00 attribute-box sapphire\">85</span></td><td><span class=\"85.00 attribute-box high\">85</span></td><td><span class=\"2,048.00 attribute-box high\">2,048</span></td></tr>,\n",
       " <tr><td align=\"center\" class=\"pt-2 pb-2\" colspan=\"5\" valign=\"middle\"> <!-- Start mobile-adx --><div class=\"mobile-adx\"></div> <!-- End mobile-adx --></td></tr>,\n",
       " <tr><td class=\"counter\"> 11.</td><td><div class=\"entries\"> <a href=\"https://www.fifaratings.com/ilkay-gundogan\"><span class=\"entry-bg mr-1\"><img alt=\"İlkay Gündoğan\" class=\"position-relative entry-photo lazy\" data-src=\"https://www.fifaratings.com/wp-content/uploads/23_180-68-80x80.png\" src=\"/wp-content/uploads/1x1.png\" title=\"İlkay Gündoğan\"/></span></a><div class=\"all-star-badge-list\"> <img alt=\"Germany\" src=\"https://www.fifaratings.com/wp-content/uploads/de-1.svg\" title=\"Germany\"/></div> <span class=\"entry-font\"><a href=\"https://www.fifaratings.com/ilkay-gundogan\" title=\"İlkay Gündoğan\">İ. Gündoğan</a></span> <br/><div class=\"text-nowrap entry-subtext-font crop-subtext-font\"> #8  <a href=\"https://www.fifaratings.com/position/center-midfielder\" title=\"Center Midfielder\"> CM</a>  | 5'11\"\t\t\t\t\t\t\t\t\t\t\t\t\t\t\t\t| 176lbs</div></div></td><td><span class=\"85.00 attribute-box sapphire\">85</span></td><td><span class=\"85.00 attribute-box high\">85</span></td><td><span class=\"2,196.00 attribute-box high\">2,196</span></td></tr>,\n",
       " <tr><td class=\"counter\"> 12.</td><td><div class=\"entries\"> <a href=\"https://www.fifaratings.com/kyle-walker\"><span class=\"entry-bg mr-1\"><img alt=\"Kyle Walker\" class=\"position-relative entry-photo lazy\" data-src=\"https://www.fifaratings.com/wp-content/uploads/23_180-69-80x80.png\" src=\"/wp-content/uploads/1x1.png\" title=\"Kyle Walker\"/></span></a><div class=\"all-star-badge-list\"> <img alt=\"England\" src=\"https://www.fifaratings.com/wp-content/uploads/gb-eng-1.svg\" title=\"England\"/></div> <span class=\"entry-font\"><a href=\"https://www.fifaratings.com/kyle-walker\" title=\"Kyle Walker\">Kyle Walker</a></span> <br/><div class=\"text-nowrap entry-subtext-font crop-subtext-font\"> #2  <a href=\"https://www.fifaratings.com/position/right-back\" title=\"Right Back\"> RB</a>  | 6'0\"\t\t\t\t\t\t\t\t\t\t\t\t\t\t\t\t| 183lbs</div></div></td><td><span class=\"85.00 attribute-box sapphire\">85</span></td><td><span class=\"85.00 attribute-box high\">85</span></td><td><span class=\"2,196.00 attribute-box high\">2,196</span></td></tr>,\n",
       " <tr><td class=\"counter\"> 13.</td><td><div class=\"entries\"> <a href=\"https://www.fifaratings.com/jack-grealish\"><span class=\"entry-bg mr-1\"><img alt=\"Jack Grealish\" class=\"position-relative entry-photo lazy\" data-src=\"https://www.fifaratings.com/wp-content/uploads/23_180-103-80x80.png\" src=\"/wp-content/uploads/1x1.png\" title=\"Jack Grealish\"/></span></a><div class=\"all-star-badge-list\"> <img alt=\"England\" src=\"https://www.fifaratings.com/wp-content/uploads/gb-eng-1.svg\" title=\"England\"/></div> <span class=\"entry-font\"><a href=\"https://www.fifaratings.com/jack-grealish\" title=\"Jack Grealish\">Jack Grealish</a></span> <br/><div class=\"text-nowrap entry-subtext-font crop-subtext-font\"> #10  <a href=\"https://www.fifaratings.com/position/left-wing\" title=\"Left Wing\"> LW</a>  | 5'11\"\t\t\t\t\t\t\t\t\t\t\t\t\t\t\t\t| 179lbs</div></div></td><td><span class=\"84.00 attribute-box sapphire\">84</span></td><td><span class=\"84.00 attribute-box high\">84</span></td><td><span class=\"2,017.00 attribute-box high\">2,017</span></td></tr>,\n",
       " <tr><td class=\"counter\"> 14.</td><td><div class=\"entries\"> <a href=\"https://www.fifaratings.com/john-stones\"><span class=\"entry-bg mr-1\"><img alt=\"John Stones\" class=\"position-relative entry-photo lazy\" data-src=\"https://www.fifaratings.com/wp-content/uploads/23_180-194-80x80.png\" src=\"/wp-content/uploads/1x1.png\" title=\"John Stones\"/></span></a><div class=\"all-star-badge-list\"> <img alt=\"England\" src=\"https://www.fifaratings.com/wp-content/uploads/gb-eng-1.svg\" title=\"England\"/></div> <span class=\"entry-font\"><a href=\"https://www.fifaratings.com/john-stones\" title=\"John Stones\">John Stones</a></span> <br/><div class=\"text-nowrap entry-subtext-font crop-subtext-font\"> #5  <a href=\"https://www.fifaratings.com/position/center-back\" title=\"Center Back\"> CB</a>  | 6'2\"\t\t\t\t\t\t\t\t\t\t\t\t\t\t\t\t| 168lbs</div></div></td><td><span class=\"83.00 attribute-box emerald\">83</span></td><td><span class=\"84.00 attribute-box high\">84</span></td><td><span class=\"1,968.00 attribute-box high\">1,968</span></td></tr>,\n",
       " <tr><td class=\"counter\"> 15.</td><td><div class=\"entries\"> <a href=\"https://www.fifaratings.com/kalvin-phillips\"><span class=\"entry-bg mr-1\"><img alt=\"Kalvin Phillips\" class=\"position-relative entry-photo lazy\" data-src=\"https://www.fifaratings.com/wp-content/uploads/23_180-361-80x80.png\" src=\"/wp-content/uploads/1x1.png\" title=\"Kalvin Phillips\"/></span></a><div class=\"all-star-badge-list\"> <img alt=\"England\" src=\"https://www.fifaratings.com/wp-content/uploads/gb-eng-1.svg\" title=\"England\"/></div> <span class=\"entry-font\"><a href=\"https://www.fifaratings.com/kalvin-phillips\" title=\"Kalvin Phillips\">Kalvin Phillips</a></span> <br/><div class=\"text-nowrap entry-subtext-font crop-subtext-font\"> #4  <a href=\"https://www.fifaratings.com/position/center-defensive-midfielder\" title=\"Center Defensive Midfielder\"> CDM</a>  | 5'10\"\t\t\t\t\t\t\t\t\t\t\t\t\t\t\t\t| 159lbs</div></div></td><td><span class=\"81.00 attribute-box emerald\">81</span></td><td><span class=\"84.00 attribute-box high\">84</span></td><td><span class=\"2,096.00 attribute-box high\">2,096</span></td></tr>,\n",
       " <tr><td class=\"counter\"> 16.</td><td><div class=\"entries\"> <a href=\"https://www.fifaratings.com/manuel-akanji\"><span class=\"entry-bg mr-1\"><img alt=\"Manuel Akanji\" class=\"position-relative entry-photo lazy\" data-src=\"https://www.fifaratings.com/wp-content/uploads/23_180-320-80x80.png\" src=\"/wp-content/uploads/1x1.png\" title=\"Manuel Akanji\"/></span></a><div class=\"all-star-badge-list\"> <img alt=\"Switzerland\" src=\"https://www.fifaratings.com/wp-content/uploads/ch-1.svg\" title=\"Switzerland\"/></div> <span class=\"entry-font\"><a href=\"https://www.fifaratings.com/manuel-akanji\" title=\"Manuel Akanji\">Manuel Akanji</a></span> <br/><div class=\"text-nowrap entry-subtext-font crop-subtext-font\"> #25  <a href=\"https://www.fifaratings.com/position/center-back\" title=\"Center Back\"> CB</a>  | 6'2\"\t\t\t\t\t\t\t\t\t\t\t\t\t\t\t\t| 201lbs</div></div></td><td><span class=\"81.00 attribute-box emerald\">81</span></td><td><span class=\"82.00 attribute-box high\">82</span></td><td><span class=\"1,963.00 attribute-box high\">1,963</span></td></tr>,\n",
       " <tr><td class=\"counter\"> 17.</td><td><div class=\"entries\"> <a href=\"https://www.fifaratings.com/stefan-ortega\"><span class=\"entry-bg mr-1\"><img alt=\"Stefan Ortega\" class=\"position-relative entry-photo lazy\" data-src=\"https://www.fifaratings.com/wp-content/uploads/23_180-430-80x80.png\" src=\"/wp-content/uploads/1x1.png\" title=\"Stefan Ortega\"/></span></a><div class=\"all-star-badge-list\"> <img alt=\"Germany\" src=\"https://www.fifaratings.com/wp-content/uploads/de-1.svg\" title=\"Germany\"/></div> <span class=\"entry-font\"><a href=\"https://www.fifaratings.com/stefan-ortega\" title=\"Stefan Ortega\">Stefan Ortega</a></span> <br/><div class=\"text-nowrap entry-subtext-font crop-subtext-font\"> #18  <a href=\"https://www.fifaratings.com/position/goalkeeper\" title=\"Goalkeeper\"> GK</a>  | 6'1\"\t\t\t\t\t\t\t\t\t\t\t\t\t\t\t\t| 194lbs</div></div></td><td><span class=\"80.00 attribute-box emerald\">80</span></td><td><span class=\"80.00 attribute-box high\">80</span></td><td><span class=\"1,400.00 attribute-box low\">1,400</span></td></tr>,\n",
       " <tr><td class=\"counter\"> 18.</td><td><div class=\"entries\"> <a href=\"https://www.fifaratings.com/julian-alvarez\"><span class=\"entry-bg mr-1\"><img alt=\"Julián Álvarez\" class=\"position-relative entry-photo lazy\" data-src=\"https://www.fifaratings.com/wp-content/uploads/23_180-680-80x80.png\" src=\"/wp-content/uploads/1x1.png\" title=\"Julián Álvarez\"/></span></a><div class=\"all-star-badge-list\"> <img alt=\"Argentina\" src=\"https://www.fifaratings.com/wp-content/uploads/ar-1.svg\" title=\"Argentina\"/></div> <span class=\"entry-font\"><a href=\"https://www.fifaratings.com/julian-alvarez\" title=\"Julián Álvarez\">J. Álvarez</a></span> <br/><div class=\"text-nowrap entry-subtext-font crop-subtext-font\"> #19  <a href=\"https://www.fifaratings.com/position/center-attacking-midfielder\" title=\"Center Attacking Midfielder\"> CAM</a>  | 5'8\"\t\t\t\t\t\t\t\t\t\t\t\t\t\t\t\t| 157lbs</div></div></td><td><span class=\"79.00 attribute-box gold\">79</span></td><td><span class=\"86.00 attribute-box high\">86</span></td><td><span class=\"2,124.00 attribute-box high\">2,124</span></td></tr>,\n",
       " <tr><td class=\"counter\"> 19.</td><td><div class=\"entries\"> <a href=\"https://www.fifaratings.com/nathan-ake\"><span class=\"entry-bg mr-1\"><img alt=\"Nathan Aké\" class=\"position-relative entry-photo lazy\" data-src=\"https://www.fifaratings.com/wp-content/uploads/23_180-759-80x80.png\" src=\"/wp-content/uploads/1x1.png\" title=\"Nathan Aké\"/></span></a><div class=\"all-star-badge-list\"> <img alt=\"Netherlands\" src=\"https://www.fifaratings.com/wp-content/uploads/nl-1.svg\" title=\"Netherlands\"/></div> <span class=\"entry-font\"><a href=\"https://www.fifaratings.com/nathan-ake\" title=\"Nathan Aké\">Nathan Aké</a></span> <br/><div class=\"text-nowrap entry-subtext-font crop-subtext-font\"> #6  <a href=\"https://www.fifaratings.com/position/center-back\" title=\"Center Back\"> CB</a>  | 5'11\"\t\t\t\t\t\t\t\t\t\t\t\t\t\t\t\t| 165lbs</div></div></td><td><span class=\"79.00 attribute-box gold\">79</span></td><td><span class=\"81.00 attribute-box high\">81</span></td><td><span class=\"1,994.00 attribute-box high\">1,994</span></td></tr>,\n",
       " <tr><td class=\"counter\"> 20.</td><td><div class=\"entries\"> <a href=\"https://www.fifaratings.com/sergio-gomez-martin\"><span class=\"entry-bg mr-1\"><img alt=\"Sergio Gómez Martín\" class=\"position-relative entry-photo lazy\" data-src=\"https://www.fifaratings.com/wp-content/uploads/23_180-1853-80x80.png\" src=\"/wp-content/uploads/1x1.png\" title=\"Sergio Gómez Martín\"/></span></a><div class=\"all-star-badge-list\"> <img alt=\"Spain\" src=\"https://www.fifaratings.com/wp-content/uploads/es-1.svg\" title=\"Spain\"/></div> <span class=\"entry-font\"><a href=\"https://www.fifaratings.com/sergio-gomez-martin\" title=\"Sergio Gómez Martín\">Sergio Gómez</a></span> <br/><div class=\"text-nowrap entry-subtext-font crop-subtext-font\"> #21  <a href=\"https://www.fifaratings.com/position/center-attacking-midfielder\" title=\"Center Attacking Midfielder\"> CAM</a>  | 5'7\"\t\t\t\t\t\t\t\t\t\t\t\t\t\t\t\t| 150lbs</div></div></td><td><span class=\"74.00 attribute-box silver\">74</span></td><td><span class=\"83.00 attribute-box high\">83</span></td><td><span class=\"2,061.00 attribute-box high\">2,061</span></td></tr>,\n",
       " <tr><td align=\"center\" class=\"pt-2 pb-2\" colspan=\"5\" valign=\"middle\"> <!-- Start mobile-adx --><div class=\"mobile-adx\"></div> <!-- End mobile-adx --></td></tr>,\n",
       " <tr><td class=\"counter\"> 21.</td><td><div class=\"entries\"> <a href=\"https://www.fifaratings.com/cole-palmer\"><span class=\"entry-bg mr-1\"><img alt=\"Cole Palmer\" class=\"position-relative entry-photo lazy\" data-src=\"https://www.fifaratings.com/wp-content/uploads/23_180-5951-80x80.png\" src=\"/wp-content/uploads/1x1.png\" title=\"Cole Palmer\"/></span></a><div class=\"all-star-badge-list\"> <img alt=\"England\" src=\"https://www.fifaratings.com/wp-content/uploads/gb-eng-1.svg\" title=\"England\"/></div> <span class=\"entry-font\"><a href=\"https://www.fifaratings.com/cole-palmer\" title=\"Cole Palmer\">Cole Palmer</a></span> <br/><div class=\"text-nowrap entry-subtext-font crop-subtext-font\"> #80  <a href=\"https://www.fifaratings.com/position/center-attacking-midfielder\" title=\"Center Attacking Midfielder\"> CAM</a>  | 6'2\"\t\t\t\t\t\t\t\t\t\t\t\t\t\t\t\t| 163lbs</div></div></td><td><span class=\"66.00 attribute-box bronze\">66</span></td><td><span class=\"83.00 attribute-box high\">83</span></td><td><span class=\"1,734.00 attribute-box medium\">1,734</span></td></tr>,\n",
       " <tr><td class=\"counter\"> 22.</td><td><div class=\"entries\"> <a href=\"https://www.fifaratings.com/morgan-rogers\"><span class=\"entry-bg mr-1\"><img alt=\"Morgan Rogers\" class=\"position-relative entry-photo lazy\" data-src=\"https://www.fifaratings.com/wp-content/uploads/23_180-7146-80x80.png\" src=\"/wp-content/uploads/1x1.png\" title=\"Morgan Rogers\"/></span></a><div class=\"all-star-badge-list\"> <img alt=\"England\" src=\"https://www.fifaratings.com/wp-content/uploads/gb-eng-1.svg\" title=\"England\"/></div> <span class=\"entry-font\"><a href=\"https://www.fifaratings.com/morgan-rogers\" title=\"Morgan Rogers\">Morgan Rogers</a></span> <br/><div class=\"text-nowrap entry-subtext-font crop-subtext-font\"> #38  <a href=\"https://www.fifaratings.com/position/right-midfielder\" title=\"Right Midfielder\"> RM</a>  | 6'2\"\t\t\t\t\t\t\t\t\t\t\t\t\t\t\t\t| 176lbs</div></div></td><td><span class=\"66.00 attribute-box bronze\">66</span></td><td><span class=\"79.00 attribute-box medium\">79</span></td><td><span class=\"1,658.00 attribute-box medium\">1,658</span></td></tr>,\n",
       " <tr><td class=\"counter\"> 23.</td><td><div class=\"entries\"> <a href=\"https://www.fifaratings.com/scott-carson\"><span class=\"entry-bg mr-1\"><img alt=\"Scott Carson\" class=\"position-relative entry-photo lazy\" data-src=\"https://www.fifaratings.com/wp-content/uploads/23_180-8302-80x80.png\" src=\"/wp-content/uploads/1x1.png\" title=\"Scott Carson\"/></span></a><div class=\"all-star-badge-list\"> <img alt=\"England\" src=\"https://www.fifaratings.com/wp-content/uploads/gb-eng-1.svg\" title=\"England\"/></div> <span class=\"entry-font\"><a href=\"https://www.fifaratings.com/scott-carson\" title=\"Scott Carson\">Scott Carson</a></span> <br/><div class=\"text-nowrap entry-subtext-font crop-subtext-font\"> #33  <a href=\"https://www.fifaratings.com/position/goalkeeper\" title=\"Goalkeeper\"> GK</a>  | 6'3\"\t\t\t\t\t\t\t\t\t\t\t\t\t\t\t\t| 190lbs</div></div></td><td><span class=\"65.00 attribute-box bronze\">65</span></td><td><span class=\"65.00 attribute-box low\">65</span></td><td><span class=\"1,109.00 attribute-box lowest\">1,109</span></td></tr>,\n",
       " <tr><td class=\"counter\"> 24.</td><td><div class=\"entries\"> <a href=\"https://www.fifaratings.com/rico-lewis\"><span class=\"entry-bg mr-1\"><img alt=\"Rico Lewis\" class=\"position-relative entry-photo lazy\" data-src=\"https://www.fifaratings.com/wp-content/uploads/23_180-12387-80x80.png\" src=\"/wp-content/uploads/1x1.png\" title=\"Rico Lewis\"/></span></a><div class=\"all-star-badge-list\"> <img alt=\"England\" src=\"https://www.fifaratings.com/wp-content/uploads/gb-eng-1.svg\" title=\"England\"/></div> <span class=\"entry-font\"><a href=\"https://www.fifaratings.com/rico-lewis\" title=\"Rico Lewis\">Rico Lewis</a></span> <br/><div class=\"text-nowrap entry-subtext-font crop-subtext-font\"> #82  <a href=\"https://www.fifaratings.com/position/right-back\" title=\"Right Back\"> RB</a>  | 5'9\"\t\t\t\t\t\t\t\t\t\t\t\t\t\t\t\t| 154lbs</div></div></td><td><span class=\"61.00 attribute-box bronze\">61</span></td><td><span class=\"82.00 attribute-box high\">82</span></td><td><span class=\"1,492.00 attribute-box low\">1,492</span></td></tr>,\n",
       " <tr><td class=\"counter\"> 25.</td><td><div class=\"entries\"> <a href=\"https://www.fifaratings.com/ben-knight\"><span class=\"entry-bg mr-1\"><img alt=\"Ben Knight\" class=\"position-relative entry-photo lazy\" data-src=\"https://www.fifaratings.com/wp-content/uploads/23_180-12975-80x80.png\" src=\"/wp-content/uploads/1x1.png\" title=\"Ben Knight\"/></span></a><div class=\"all-star-badge-list\"> <img alt=\"England\" src=\"https://www.fifaratings.com/wp-content/uploads/gb-eng-1.svg\" title=\"England\"/></div> <span class=\"entry-font\"><a href=\"https://www.fifaratings.com/ben-knight\" title=\"Ben Knight\">Ben Knight</a></span> <br/><div class=\"text-nowrap entry-subtext-font crop-subtext-font\"> #96  <a href=\"https://www.fifaratings.com/position/center-attacking-midfielder\" title=\"Center Attacking Midfielder\"> CAM</a>  | 5'7\"\t\t\t\t\t\t\t\t\t\t\t\t\t\t\t\t| 130lbs</div></div></td><td><span class=\"60.00 attribute-box bronze\">60</span></td><td><span class=\"74.00 attribute-box medium\">74</span></td><td><span class=\"1,496.00 attribute-box low\">1,496</span></td></tr>,\n",
       " <tr><td class=\"counter\"> 26.</td><td><div class=\"entries\"> <a href=\"https://www.fifaratings.com/alex-robertson\"><span class=\"entry-bg mr-1\"><img alt=\"Alex Robertson\" class=\"position-relative entry-photo lazy\" data-src=\"https://www.fifaratings.com/wp-content/uploads/23_180-14165-80x80.png\" src=\"/wp-content/uploads/1x1.png\" title=\"Alex Robertson\"/></span></a><div class=\"all-star-badge-list\"> <img alt=\"England\" src=\"https://www.fifaratings.com/wp-content/uploads/gb-eng-1.svg\" title=\"England\"/></div> <span class=\"entry-font\"><a href=\"https://www.fifaratings.com/alex-robertson\" title=\"Alex Robertson\">Alex Robertson</a></span> <br/><div class=\"text-nowrap entry-subtext-font crop-subtext-font\"> #93  <a href=\"https://www.fifaratings.com/position/center-attacking-midfielder\" title=\"Center Attacking Midfielder\"> CAM</a>  | 5'11\"\t\t\t\t\t\t\t\t\t\t\t\t\t\t\t\t| 146lbs</div></div></td><td><span class=\"58.00 attribute-box bronze\">58</span></td><td><span class=\"78.00 attribute-box medium\">78</span></td><td><span class=\"1,593.00 attribute-box low\">1,593</span></td></tr>,\n",
       " <tr><td class=\"counter\"> 27.</td><td><div class=\"entries\"> <a href=\"https://www.fifaratings.com/joshua-wilson-esbrand\"><span class=\"entry-bg mr-1\"><img alt=\"Joshua Wilson-Esbrand\" class=\"position-relative entry-photo lazy\" data-src=\"https://www.fifaratings.com/wp-content/uploads/23_180-14171-80x80.png\" src=\"/wp-content/uploads/1x1.png\" title=\"Joshua Wilson-Esbrand\"/></span></a><div class=\"all-star-badge-list\"> <img alt=\"England\" src=\"https://www.fifaratings.com/wp-content/uploads/gb-eng-1.svg\" title=\"England\"/></div> <span class=\"entry-font\"><a href=\"https://www.fifaratings.com/joshua-wilson-esbrand\" title=\"Joshua Wilson-Esbrand\">J. Wilson-Esbrand</a></span> <br/><div class=\"text-nowrap entry-subtext-font crop-subtext-font\"> #97  <a href=\"https://www.fifaratings.com/position/left-back\" title=\"Left Back\"> LB</a>  | 5'9\"\t\t\t\t\t\t\t\t\t\t\t\t\t\t\t\t| 143lbs</div></div></td><td><span class=\"58.00 attribute-box bronze\">58</span></td><td><span class=\"76.00 attribute-box medium\">76</span></td><td><span class=\"1,478.00 attribute-box low\">1,478</span></td></tr>]"
      ]
     },
     "execution_count": 195,
     "metadata": {},
     "output_type": "execute_result"
    }
   ],
   "source": [
    "table"
   ]
  },
  {
   "cell_type": "code",
   "execution_count": 126,
   "metadata": {},
   "outputs": [
    {
     "data": {
      "text/plain": [
       "'Riyad Mahrez'"
      ]
     },
     "execution_count": 126,
     "metadata": {},
     "output_type": "execute_result"
    }
   ],
   "source": [
    "table[10].get_text().strip().split(\"  \")[1].strip()"
   ]
  },
  {
   "cell_type": "code",
   "execution_count": 161,
   "metadata": {},
   "outputs": [
    {
     "data": {
      "text/plain": [
       "'Kevin De Bruyne'"
      ]
     },
     "execution_count": 161,
     "metadata": {},
     "output_type": "execute_result"
    }
   ],
   "source": [
    "table[1].find_all('td')[1].get_text().split(\"  \")[1].strip()"
   ]
  },
  {
   "cell_type": "code",
   "execution_count": 186,
   "metadata": {},
   "outputs": [],
   "source": [
    "players = []\n",
    "for i in range(len(table)):\n",
    "    players.append(table[i].find_all('td'))"
   ]
  },
  {
   "cell_type": "code",
   "execution_count": 198,
   "metadata": {},
   "outputs": [
    {
     "data": {
      "text/plain": [
       "'91'"
      ]
     },
     "execution_count": 198,
     "metadata": {},
     "output_type": "execute_result"
    }
   ],
   "source": [
    "players[1][2].get_text()"
   ]
  },
  {
   "cell_type": "code",
   "execution_count": 179,
   "metadata": {},
   "outputs": [],
   "source": [
    "names = []\n",
    "for player in players:\n",
    "    if len(player) > 1:\n",
    "        names.append(player[1].get_text().split(\"  \")[1].strip())\n"
   ]
  },
  {
   "cell_type": "code",
   "execution_count": 180,
   "metadata": {},
   "outputs": [
    {
     "data": {
      "text/plain": [
       "['Kevin De Bruyne',\n",
       " 'Erling Haaland',\n",
       " 'Ederson',\n",
       " 'Rúben Dias',\n",
       " 'João Cancelo',\n",
       " 'Bernardo Silva',\n",
       " 'Rodri',\n",
       " 'Aymeric Laporte',\n",
       " 'Phil Foden',\n",
       " 'Riyad Mahrez',\n",
       " 'İ. Gündoğan',\n",
       " 'Kyle Walker',\n",
       " 'Jack Grealish',\n",
       " 'John Stones',\n",
       " 'Kalvin Phillips',\n",
       " 'Manuel Akanji',\n",
       " 'Stefan Ortega',\n",
       " 'J. Álvarez',\n",
       " 'Nathan Aké',\n",
       " 'Sergio Gómez',\n",
       " 'Cole Palmer',\n",
       " 'Morgan Rogers',\n",
       " 'Scott Carson',\n",
       " 'Rico Lewis',\n",
       " 'Ben Knight',\n",
       " 'Alex Robertson',\n",
       " 'J. Wilson-Esbrand']"
      ]
     },
     "execution_count": 180,
     "metadata": {},
     "output_type": "execute_result"
    }
   ],
   "source": [
    "names"
   ]
  },
  {
   "cell_type": "code",
   "execution_count": 185,
   "metadata": {},
   "outputs": [],
   "source": [
    "def get_names(team:str):\n",
    "    url = f'https://www.fifaratings.com/team/{team}'\n",
    "    response = requests.get(url)\n",
    "    soup = BeautifulSoup(response.content, 'html.parser')\n",
    "    table = soup.find_all('tr')\n",
    "    players = []\n",
    "    for i in range(len(table)):\n",
    "        players.append(table[i].find_all('td'))\n",
    "    names = []\n",
    "    for player in players:\n",
    "        if len(player) > 1:\n",
    "            names.append(player[1].get_text().split(\"  \")[1].strip())\n",
    "    return names"
   ]
  },
  {
   "cell_type": "code",
   "execution_count": 192,
   "metadata": {},
   "outputs": [],
   "source": [
    "def get_ovr(team:str):\n",
    "    url = f'https://www.fifaratings.com/team/{team}'\n",
    "    response = requests.get(url)\n",
    "    soup = BeautifulSoup(response.content, 'html.parser')\n",
    "    table = soup.find_all('tr')\n",
    "    players = []\n",
    "    for i in range(len(table)):\n",
    "        players.append(table[i].find_all('td'))\n",
    "    ovrs = []\n",
    "    for player in players:\n",
    "        if len(player) > 1:\n",
    "            ovrs.append(player[2].get_text())\n",
    "    return ovrs"
   ]
  },
  {
   "cell_type": "code",
   "execution_count": 220,
   "metadata": {},
   "outputs": [],
   "source": [
    "def get_all():\n",
    "    teams = ['manchester-city', 'arsenal', 'liverpool', 'chelsea', 'tottenham-hotspur', 'manchester-united', 'newcastle-united', 'west-ham-united', 'aston-villa',\\\n",
    "             'leicester-city', 'wolverhampton-wanderers', 'everton', 'nottingham-forest', 'fulham', 'leeds-united', 'crystal-palace',\\\n",
    "             'brighton-hove-albion', 'brentford', 'southampton', 'afc-bournemouth']\n",
    "    squads = {}\n",
    "    for team in teams:\n",
    "        names = get_names(team)\n",
    "        ovrs = get_ovr(team)\n",
    "        squads[team] = dict(zip(names, ovrs))\n",
    "    return squads"
   ]
  },
  {
   "cell_type": "code",
   "execution_count": 221,
   "metadata": {},
   "outputs": [],
   "source": [
    "squads = get_all()"
   ]
  },
  {
   "cell_type": "code",
   "execution_count": 263,
   "metadata": {},
   "outputs": [],
   "source": [
    "names = get_names('manchester-city')\n",
    "ovrs = get_ovr('manchester-city')"
   ]
  },
  {
   "cell_type": "code",
   "execution_count": 269,
   "metadata": {},
   "outputs": [
    {
     "data": {
      "text/html": [
       "<div>\n",
       "<style scoped>\n",
       "    .dataframe tbody tr th:only-of-type {\n",
       "        vertical-align: middle;\n",
       "    }\n",
       "\n",
       "    .dataframe tbody tr th {\n",
       "        vertical-align: top;\n",
       "    }\n",
       "\n",
       "    .dataframe thead th {\n",
       "        text-align: right;\n",
       "    }\n",
       "</style>\n",
       "<table border=\"1\" class=\"dataframe\">\n",
       "  <thead>\n",
       "    <tr style=\"text-align: right;\">\n",
       "      <th></th>\n",
       "      <th>name</th>\n",
       "      <th>ovr</th>\n",
       "    </tr>\n",
       "  </thead>\n",
       "  <tbody>\n",
       "    <tr>\n",
       "      <th>0</th>\n",
       "      <td>Kevin De Bruyne</td>\n",
       "      <td>91</td>\n",
       "    </tr>\n",
       "    <tr>\n",
       "      <th>1</th>\n",
       "      <td>Erling Haaland</td>\n",
       "      <td>89</td>\n",
       "    </tr>\n",
       "    <tr>\n",
       "      <th>2</th>\n",
       "      <td>Ederson</td>\n",
       "      <td>89</td>\n",
       "    </tr>\n",
       "    <tr>\n",
       "      <th>3</th>\n",
       "      <td>Rúben Dias</td>\n",
       "      <td>88</td>\n",
       "    </tr>\n",
       "    <tr>\n",
       "      <th>4</th>\n",
       "      <td>João Cancelo</td>\n",
       "      <td>88</td>\n",
       "    </tr>\n",
       "    <tr>\n",
       "      <th>5</th>\n",
       "      <td>Bernardo Silva</td>\n",
       "      <td>88</td>\n",
       "    </tr>\n",
       "    <tr>\n",
       "      <th>6</th>\n",
       "      <td>Rodri</td>\n",
       "      <td>87</td>\n",
       "    </tr>\n",
       "    <tr>\n",
       "      <th>7</th>\n",
       "      <td>Aymeric Laporte</td>\n",
       "      <td>86</td>\n",
       "    </tr>\n",
       "    <tr>\n",
       "      <th>8</th>\n",
       "      <td>Phil Foden</td>\n",
       "      <td>85</td>\n",
       "    </tr>\n",
       "    <tr>\n",
       "      <th>9</th>\n",
       "      <td>Riyad Mahrez</td>\n",
       "      <td>85</td>\n",
       "    </tr>\n",
       "    <tr>\n",
       "      <th>10</th>\n",
       "      <td>İ. Gündoğan</td>\n",
       "      <td>85</td>\n",
       "    </tr>\n",
       "    <tr>\n",
       "      <th>11</th>\n",
       "      <td>Kyle Walker</td>\n",
       "      <td>85</td>\n",
       "    </tr>\n",
       "    <tr>\n",
       "      <th>12</th>\n",
       "      <td>Jack Grealish</td>\n",
       "      <td>84</td>\n",
       "    </tr>\n",
       "    <tr>\n",
       "      <th>13</th>\n",
       "      <td>John Stones</td>\n",
       "      <td>83</td>\n",
       "    </tr>\n",
       "    <tr>\n",
       "      <th>14</th>\n",
       "      <td>Kalvin Phillips</td>\n",
       "      <td>81</td>\n",
       "    </tr>\n",
       "    <tr>\n",
       "      <th>15</th>\n",
       "      <td>Manuel Akanji</td>\n",
       "      <td>81</td>\n",
       "    </tr>\n",
       "    <tr>\n",
       "      <th>16</th>\n",
       "      <td>Stefan Ortega</td>\n",
       "      <td>80</td>\n",
       "    </tr>\n",
       "    <tr>\n",
       "      <th>17</th>\n",
       "      <td>J. Álvarez</td>\n",
       "      <td>79</td>\n",
       "    </tr>\n",
       "    <tr>\n",
       "      <th>18</th>\n",
       "      <td>Nathan Aké</td>\n",
       "      <td>79</td>\n",
       "    </tr>\n",
       "    <tr>\n",
       "      <th>19</th>\n",
       "      <td>Sergio Gómez</td>\n",
       "      <td>74</td>\n",
       "    </tr>\n",
       "    <tr>\n",
       "      <th>20</th>\n",
       "      <td>Cole Palmer</td>\n",
       "      <td>66</td>\n",
       "    </tr>\n",
       "    <tr>\n",
       "      <th>21</th>\n",
       "      <td>Morgan Rogers</td>\n",
       "      <td>66</td>\n",
       "    </tr>\n",
       "    <tr>\n",
       "      <th>22</th>\n",
       "      <td>Scott Carson</td>\n",
       "      <td>65</td>\n",
       "    </tr>\n",
       "    <tr>\n",
       "      <th>23</th>\n",
       "      <td>Rico Lewis</td>\n",
       "      <td>61</td>\n",
       "    </tr>\n",
       "    <tr>\n",
       "      <th>24</th>\n",
       "      <td>Ben Knight</td>\n",
       "      <td>60</td>\n",
       "    </tr>\n",
       "    <tr>\n",
       "      <th>25</th>\n",
       "      <td>Alex Robertson</td>\n",
       "      <td>58</td>\n",
       "    </tr>\n",
       "    <tr>\n",
       "      <th>26</th>\n",
       "      <td>J. Wilson-Esbrand</td>\n",
       "      <td>58</td>\n",
       "    </tr>\n",
       "  </tbody>\n",
       "</table>\n",
       "</div>"
      ],
      "text/plain": [
       "                 name ovr\n",
       "0     Kevin De Bruyne  91\n",
       "1      Erling Haaland  89\n",
       "2             Ederson  89\n",
       "3          Rúben Dias  88\n",
       "4        João Cancelo  88\n",
       "5      Bernardo Silva  88\n",
       "6               Rodri  87\n",
       "7     Aymeric Laporte  86\n",
       "8          Phil Foden  85\n",
       "9        Riyad Mahrez  85\n",
       "10        İ. Gündoğan  85\n",
       "11        Kyle Walker  85\n",
       "12      Jack Grealish  84\n",
       "13        John Stones  83\n",
       "14    Kalvin Phillips  81\n",
       "15      Manuel Akanji  81\n",
       "16      Stefan Ortega  80\n",
       "17         J. Álvarez  79\n",
       "18         Nathan Aké  79\n",
       "19       Sergio Gómez  74\n",
       "20        Cole Palmer  66\n",
       "21      Morgan Rogers  66\n",
       "22       Scott Carson  65\n",
       "23         Rico Lewis  61\n",
       "24         Ben Knight  60\n",
       "25     Alex Robertson  58\n",
       "26  J. Wilson-Esbrand  58"
      ]
     },
     "execution_count": 269,
     "metadata": {},
     "output_type": "execute_result"
    }
   ],
   "source": [
    "pd.DataFrame({'name':names, 'ovr':ovrs})"
   ]
  },
  {
   "cell_type": "code",
   "execution_count": 256,
   "metadata": {},
   "outputs": [],
   "source": [
    "import pandas as pd"
   ]
  },
  {
   "cell_type": "code",
   "execution_count": 226,
   "metadata": {},
   "outputs": [
    {
     "ename": "KeyError",
     "evalue": "0",
     "output_type": "error",
     "traceback": [
      "\u001b[0;31m---------------------------------------------------------------------------\u001b[0m",
      "\u001b[0;31mKeyError\u001b[0m                                  Traceback (most recent call last)",
      "\u001b[1;32m/Users/vicente/code/VicLanari/final-project-test/predict_epl_results/scraping_lineups.ipynb Cell 30\u001b[0m in \u001b[0;36m1\n\u001b[0;32m----> <a href='vscode-notebook-cell:/Users/vicente/code/VicLanari/final-project-test/predict_epl_results/scraping_lineups.ipynb#X53sZmlsZQ%3D%3D?line=0'>1</a>\u001b[0m squads[\u001b[39m0\u001b[39;49m]\n",
      "\u001b[0;31mKeyError\u001b[0m: 0"
     ]
    }
   ],
   "source": [
    "squads"
   ]
  },
  {
   "cell_type": "code",
   "execution_count": 230,
   "metadata": {},
   "outputs": [],
   "source": [
    "df = pd.DataFrame(squads)"
   ]
  },
  {
   "cell_type": "code",
   "execution_count": 238,
   "metadata": {},
   "outputs": [],
   "source": [
    "import numpy as np"
   ]
  },
  {
   "cell_type": "code",
   "execution_count": 251,
   "metadata": {},
   "outputs": [],
   "source": [
    "df_city = df['manchester-city'].dropna()\n",
    "df_city = df_city.astype(\"int64\")"
   ]
  },
  {
   "cell_type": "code",
   "execution_count": 252,
   "metadata": {},
   "outputs": [
    {
     "data": {
      "text/plain": [
       "78.55555555555556"
      ]
     },
     "execution_count": 252,
     "metadata": {},
     "output_type": "execute_result"
    }
   ],
   "source": [
    "df_city.mean()"
   ]
  },
  {
   "cell_type": "code",
   "execution_count": 253,
   "metadata": {},
   "outputs": [],
   "source": [
    "teams = ['manchester-city', 'arsenal', 'liverpool', 'chelsea', 'tottenham-hotspur', 'manchester-united', 'newcastle-united', 'west-ham-united', 'aston-villa',\\\n",
    "             'leicester-city', 'wolverhampton-wanderers', 'everton', 'nottingham-forest', 'fulham', 'leeds-united', 'crystal-palace',\\\n",
    "             'brighton-hove-albion', 'brentford', 'southampton', 'afc-bournemouth']"
   ]
  },
  {
   "cell_type": "code",
   "execution_count": 254,
   "metadata": {},
   "outputs": [],
   "source": [
    "team_avg_ovr = {}\n",
    "for team in teams:\n",
    "    ovrs = get_ovr(team)\n",
    "    ovrs = list(map(int, ovrs))\n",
    "    team_avg_ovr[team] = np.mean(ovrs)"
   ]
  },
  {
   "cell_type": "code",
   "execution_count": 255,
   "metadata": {},
   "outputs": [
    {
     "data": {
      "text/plain": [
       "{'manchester-city': 78.55555555555556,\n",
       " 'arsenal': 75.17241379310344,\n",
       " 'liverpool': 78.56666666666666,\n",
       " 'chelsea': 77.09677419354838,\n",
       " 'tottenham-hotspur': 76.5,\n",
       " 'manchester-united': 76.71875,\n",
       " 'newcastle-united': 73.54838709677419,\n",
       " 'west-ham-united': 74.48275862068965,\n",
       " 'aston-villa': 73.625,\n",
       " 'leicester-city': 73.9,\n",
       " 'wolverhampton-wanderers': 70.1470588235294,\n",
       " 'everton': 73.54838709677419,\n",
       " 'nottingham-forest': 72.58823529411765,\n",
       " 'fulham': 72.88888888888889,\n",
       " 'leeds-united': 72.56,\n",
       " 'crystal-palace': 71.72413793103448,\n",
       " 'brighton-hove-albion': 69.41379310344827,\n",
       " 'brentford': 71.12903225806451,\n",
       " 'southampton': 71.3103448275862,\n",
       " 'afc-bournemouth': 71.48}"
      ]
     },
     "execution_count": 255,
     "metadata": {},
     "output_type": "execute_result"
    }
   ],
   "source": [
    "team_avg_ovr"
   ]
  },
  {
   "cell_type": "code",
   "execution_count": 271,
   "metadata": {},
   "outputs": [],
   "source": [
    "fifa_df = pd.read_csv('FIFA23_official_data.csv')"
   ]
  },
  {
   "cell_type": "code",
   "execution_count": 272,
   "metadata": {},
   "outputs": [
    {
     "data": {
      "text/html": [
       "<div>\n",
       "<style scoped>\n",
       "    .dataframe tbody tr th:only-of-type {\n",
       "        vertical-align: middle;\n",
       "    }\n",
       "\n",
       "    .dataframe tbody tr th {\n",
       "        vertical-align: top;\n",
       "    }\n",
       "\n",
       "    .dataframe thead th {\n",
       "        text-align: right;\n",
       "    }\n",
       "</style>\n",
       "<table border=\"1\" class=\"dataframe\">\n",
       "  <thead>\n",
       "    <tr style=\"text-align: right;\">\n",
       "      <th></th>\n",
       "      <th>ID</th>\n",
       "      <th>Name</th>\n",
       "      <th>Age</th>\n",
       "      <th>Photo</th>\n",
       "      <th>Nationality</th>\n",
       "      <th>Flag</th>\n",
       "      <th>Overall</th>\n",
       "      <th>Potential</th>\n",
       "      <th>Club</th>\n",
       "      <th>Club Logo</th>\n",
       "      <th>...</th>\n",
       "      <th>Real Face</th>\n",
       "      <th>Position</th>\n",
       "      <th>Joined</th>\n",
       "      <th>Loaned From</th>\n",
       "      <th>Contract Valid Until</th>\n",
       "      <th>Height</th>\n",
       "      <th>Weight</th>\n",
       "      <th>Release Clause</th>\n",
       "      <th>Kit Number</th>\n",
       "      <th>Best Overall Rating</th>\n",
       "    </tr>\n",
       "  </thead>\n",
       "  <tbody>\n",
       "    <tr>\n",
       "      <th>0</th>\n",
       "      <td>209658</td>\n",
       "      <td>L. Goretzka</td>\n",
       "      <td>27</td>\n",
       "      <td>https://cdn.sofifa.net/players/209/658/23_60.png</td>\n",
       "      <td>Germany</td>\n",
       "      <td>https://cdn.sofifa.net/flags/de.png</td>\n",
       "      <td>87</td>\n",
       "      <td>88</td>\n",
       "      <td>FC Bayern München</td>\n",
       "      <td>https://cdn.sofifa.net/teams/21/30.png</td>\n",
       "      <td>...</td>\n",
       "      <td>Yes</td>\n",
       "      <td>&lt;span class=\"pos pos28\"&gt;SUB</td>\n",
       "      <td>Jul 1, 2018</td>\n",
       "      <td>NaN</td>\n",
       "      <td>2026</td>\n",
       "      <td>189cm</td>\n",
       "      <td>82kg</td>\n",
       "      <td>€157M</td>\n",
       "      <td>8.0</td>\n",
       "      <td>NaN</td>\n",
       "    </tr>\n",
       "    <tr>\n",
       "      <th>1</th>\n",
       "      <td>212198</td>\n",
       "      <td>Bruno Fernandes</td>\n",
       "      <td>27</td>\n",
       "      <td>https://cdn.sofifa.net/players/212/198/23_60.png</td>\n",
       "      <td>Portugal</td>\n",
       "      <td>https://cdn.sofifa.net/flags/pt.png</td>\n",
       "      <td>86</td>\n",
       "      <td>87</td>\n",
       "      <td>Manchester United</td>\n",
       "      <td>https://cdn.sofifa.net/teams/11/30.png</td>\n",
       "      <td>...</td>\n",
       "      <td>Yes</td>\n",
       "      <td>&lt;span class=\"pos pos15\"&gt;LCM</td>\n",
       "      <td>Jan 30, 2020</td>\n",
       "      <td>NaN</td>\n",
       "      <td>2026</td>\n",
       "      <td>179cm</td>\n",
       "      <td>69kg</td>\n",
       "      <td>€155M</td>\n",
       "      <td>8.0</td>\n",
       "      <td>NaN</td>\n",
       "    </tr>\n",
       "    <tr>\n",
       "      <th>2</th>\n",
       "      <td>224334</td>\n",
       "      <td>M. Acuña</td>\n",
       "      <td>30</td>\n",
       "      <td>https://cdn.sofifa.net/players/224/334/23_60.png</td>\n",
       "      <td>Argentina</td>\n",
       "      <td>https://cdn.sofifa.net/flags/ar.png</td>\n",
       "      <td>85</td>\n",
       "      <td>85</td>\n",
       "      <td>Sevilla FC</td>\n",
       "      <td>https://cdn.sofifa.net/teams/481/30.png</td>\n",
       "      <td>...</td>\n",
       "      <td>No</td>\n",
       "      <td>&lt;span class=\"pos pos7\"&gt;LB</td>\n",
       "      <td>Sep 14, 2020</td>\n",
       "      <td>NaN</td>\n",
       "      <td>2024</td>\n",
       "      <td>172cm</td>\n",
       "      <td>69kg</td>\n",
       "      <td>€97.7M</td>\n",
       "      <td>19.0</td>\n",
       "      <td>NaN</td>\n",
       "    </tr>\n",
       "    <tr>\n",
       "      <th>3</th>\n",
       "      <td>192985</td>\n",
       "      <td>K. De Bruyne</td>\n",
       "      <td>31</td>\n",
       "      <td>https://cdn.sofifa.net/players/192/985/23_60.png</td>\n",
       "      <td>Belgium</td>\n",
       "      <td>https://cdn.sofifa.net/flags/be.png</td>\n",
       "      <td>91</td>\n",
       "      <td>91</td>\n",
       "      <td>Manchester City</td>\n",
       "      <td>https://cdn.sofifa.net/teams/10/30.png</td>\n",
       "      <td>...</td>\n",
       "      <td>Yes</td>\n",
       "      <td>&lt;span class=\"pos pos13\"&gt;RCM</td>\n",
       "      <td>Aug 30, 2015</td>\n",
       "      <td>NaN</td>\n",
       "      <td>2025</td>\n",
       "      <td>181cm</td>\n",
       "      <td>70kg</td>\n",
       "      <td>€198.9M</td>\n",
       "      <td>17.0</td>\n",
       "      <td>NaN</td>\n",
       "    </tr>\n",
       "    <tr>\n",
       "      <th>4</th>\n",
       "      <td>224232</td>\n",
       "      <td>N. Barella</td>\n",
       "      <td>25</td>\n",
       "      <td>https://cdn.sofifa.net/players/224/232/23_60.png</td>\n",
       "      <td>Italy</td>\n",
       "      <td>https://cdn.sofifa.net/flags/it.png</td>\n",
       "      <td>86</td>\n",
       "      <td>89</td>\n",
       "      <td>Inter</td>\n",
       "      <td>https://cdn.sofifa.net/teams/44/30.png</td>\n",
       "      <td>...</td>\n",
       "      <td>Yes</td>\n",
       "      <td>&lt;span class=\"pos pos13\"&gt;RCM</td>\n",
       "      <td>Sep 1, 2020</td>\n",
       "      <td>NaN</td>\n",
       "      <td>2026</td>\n",
       "      <td>172cm</td>\n",
       "      <td>68kg</td>\n",
       "      <td>€154.4M</td>\n",
       "      <td>23.0</td>\n",
       "      <td>NaN</td>\n",
       "    </tr>\n",
       "  </tbody>\n",
       "</table>\n",
       "<p>5 rows × 29 columns</p>\n",
       "</div>"
      ],
      "text/plain": [
       "       ID             Name  Age  \\\n",
       "0  209658      L. Goretzka   27   \n",
       "1  212198  Bruno Fernandes   27   \n",
       "2  224334         M. Acuña   30   \n",
       "3  192985     K. De Bruyne   31   \n",
       "4  224232       N. Barella   25   \n",
       "\n",
       "                                              Photo Nationality  \\\n",
       "0  https://cdn.sofifa.net/players/209/658/23_60.png     Germany   \n",
       "1  https://cdn.sofifa.net/players/212/198/23_60.png    Portugal   \n",
       "2  https://cdn.sofifa.net/players/224/334/23_60.png   Argentina   \n",
       "3  https://cdn.sofifa.net/players/192/985/23_60.png     Belgium   \n",
       "4  https://cdn.sofifa.net/players/224/232/23_60.png       Italy   \n",
       "\n",
       "                                  Flag  Overall  Potential               Club  \\\n",
       "0  https://cdn.sofifa.net/flags/de.png       87         88  FC Bayern München   \n",
       "1  https://cdn.sofifa.net/flags/pt.png       86         87  Manchester United   \n",
       "2  https://cdn.sofifa.net/flags/ar.png       85         85         Sevilla FC   \n",
       "3  https://cdn.sofifa.net/flags/be.png       91         91    Manchester City   \n",
       "4  https://cdn.sofifa.net/flags/it.png       86         89              Inter   \n",
       "\n",
       "                                 Club Logo  ... Real Face  \\\n",
       "0   https://cdn.sofifa.net/teams/21/30.png  ...       Yes   \n",
       "1   https://cdn.sofifa.net/teams/11/30.png  ...       Yes   \n",
       "2  https://cdn.sofifa.net/teams/481/30.png  ...        No   \n",
       "3   https://cdn.sofifa.net/teams/10/30.png  ...       Yes   \n",
       "4   https://cdn.sofifa.net/teams/44/30.png  ...       Yes   \n",
       "\n",
       "                      Position        Joined Loaned From  \\\n",
       "0  <span class=\"pos pos28\">SUB   Jul 1, 2018         NaN   \n",
       "1  <span class=\"pos pos15\">LCM  Jan 30, 2020         NaN   \n",
       "2    <span class=\"pos pos7\">LB  Sep 14, 2020         NaN   \n",
       "3  <span class=\"pos pos13\">RCM  Aug 30, 2015         NaN   \n",
       "4  <span class=\"pos pos13\">RCM   Sep 1, 2020         NaN   \n",
       "\n",
       "   Contract Valid Until  Height  Weight Release Clause Kit Number  \\\n",
       "0                  2026   189cm    82kg          €157M        8.0   \n",
       "1                  2026   179cm    69kg          €155M        8.0   \n",
       "2                  2024   172cm    69kg         €97.7M       19.0   \n",
       "3                  2025   181cm    70kg        €198.9M       17.0   \n",
       "4                  2026   172cm    68kg        €154.4M       23.0   \n",
       "\n",
       "  Best Overall Rating  \n",
       "0                 NaN  \n",
       "1                 NaN  \n",
       "2                 NaN  \n",
       "3                 NaN  \n",
       "4                 NaN  \n",
       "\n",
       "[5 rows x 29 columns]"
      ]
     },
     "execution_count": 272,
     "metadata": {},
     "output_type": "execute_result"
    }
   ],
   "source": [
    "fifa_df.head()"
   ]
  },
  {
   "cell_type": "code",
   "execution_count": 277,
   "metadata": {},
   "outputs": [],
   "source": [
    "united = fifa_df.loc[fifa_df['Club'] == 'Manchester United']"
   ]
  },
  {
   "cell_type": "code",
   "execution_count": null,
   "metadata": {},
   "outputs": [],
   "source": [
    "united.Name"
   ]
  }
 ],
 "metadata": {
  "kernelspec": {
   "display_name": "lewagon",
   "language": "python",
   "name": "python3"
  },
  "language_info": {
   "codemirror_mode": {
    "name": "ipython",
    "version": 3
   },
   "file_extension": ".py",
   "mimetype": "text/x-python",
   "name": "python",
   "nbconvert_exporter": "python",
   "pygments_lexer": "ipython3",
   "version": "3.10.6"
  },
  "orig_nbformat": 4
 },
 "nbformat": 4,
 "nbformat_minor": 2
}

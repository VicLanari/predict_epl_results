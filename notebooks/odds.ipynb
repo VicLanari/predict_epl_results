{
 "cells": [
  {
   "cell_type": "code",
   "execution_count": 13,
   "id": "4595544a",
   "metadata": {},
   "outputs": [],
   "source": [
    "import pandas as pd\n",
    "import requests\n",
    "from bs4 import BeautifulSoup\n",
    "import datetime\n",
    "pd.set_option('display.max_columns', 100)\n",
    "import seaborn as sns\n",
    "import matplotlib.pyplot as plt\n",
    "%matplotlib inline\n",
    " \n",
    "\n",
    "from import_pack.import_data import grab_epl_data, split_data"
   ]
  },
  {
   "cell_type": "code",
   "execution_count": 14,
   "id": "210340e2",
   "metadata": {},
   "outputs": [],
   "source": [
    "df = grab_epl_data()"
   ]
  },
  {
   "cell_type": "code",
   "execution_count": 15,
   "id": "c0539dc5",
   "metadata": {},
   "outputs": [],
   "source": [
    "df_results, df_stats, df_odds = split_data(df)"
   ]
  },
  {
   "cell_type": "code",
   "execution_count": 9,
   "id": "60cb10b8",
   "metadata": {},
   "outputs": [
    {
     "data": {
      "text/plain": [
       "array(['B365H', 'B365D', 'B365A', 'BWH', 'BWD', 'BWA', 'IWH', 'IWD',\n",
       "       'IWA', 'PSH', 'PSD', 'PSA', 'WHH', 'WHD', 'WHA', 'VCH', 'VCD',\n",
       "       'VCA', 'MaxH', 'MaxD', 'MaxA', 'AvgH', 'AvgD', 'AvgA', 'B365>2.5',\n",
       "       'B365<2.5', 'P>2.5', 'P<2.5', 'Max>2.5', 'Max<2.5', 'Avg>2.5',\n",
       "       'Avg<2.5', 'AHh', 'B365AHH', 'B365AHA', 'PAHH', 'PAHA', 'MaxAHH',\n",
       "       'MaxAHA', 'AvgAHH', 'AvgAHA', 'B365CH', 'B365CD', 'B365CA', 'BWCH',\n",
       "       'BWCD', 'BWCA', 'IWCH', 'IWCD', 'IWCA', 'PSCH', 'PSCD', 'PSCA',\n",
       "       'WHCH', 'WHCD', 'WHCA', 'VCCH', 'VCCD', 'VCCA', 'MaxCH', 'MaxCD',\n",
       "       'MaxCA', 'AvgCH', 'AvgCD', 'AvgCA', 'B365C>2.5', 'B365C<2.5',\n",
       "       'PC>2.5', 'PC<2.5', 'MaxC>2.5', 'MaxC<2.5', 'AvgC>2.5', 'AvgC<2.5',\n",
       "       'AHCh', 'B365CAHH', 'B365CAHA', 'PCAHH', 'PCAHA', 'MaxCAHH',\n",
       "       'MaxCAHA', 'AvgCAHH', 'AvgCAHA', 'Bb1X2', 'BbMxH', 'BbAvH',\n",
       "       'BbMxD', 'BbAvD', 'BbMxA', 'BbAvA', 'BbOU', 'BbMx>2.5', 'BbAv>2.5',\n",
       "       'BbMx<2.5', 'BbAv<2.5', 'BbAH', 'BbAHh', 'BbMxAHH', 'BbAvAHH',\n",
       "       'BbMxAHA', 'BbAvAHA', 'LBH', 'LBD', 'LBA', 'SJH', 'SJD', 'SJA',\n",
       "       'GBH', 'GBD', 'GBA', 'BSH', 'BSD', 'BSA', 'SBH', 'SBD', 'SBA'],\n",
       "      dtype=object)"
      ]
     },
     "execution_count": 9,
     "metadata": {},
     "output_type": "execute_result"
    }
   ],
   "source": [
    "df_odds.columns.values"
   ]
  },
  {
   "cell_type": "code",
   "execution_count": 16,
   "id": "783544bd",
   "metadata": {},
   "outputs": [],
   "source": [
    "def get_home_odds(df):\n",
    "    df_odds = df[[\"B365H\", \"B365D\", \"B365A\", \"BWH\", \"BWD\", \"BWA\", \"IWH\", \"IWD\",\\\n",
    "    \"IWA\", \"PSH\", \"PSD\", \"PSA\", \"WHH\", \"WHD\", \"WHA\", \"VCH\", \"VCD\", \"VCA\",]]\n",
    "    df_home_odds = df_odds[[\"B365H\",\"BWH\",\"IWH\",\"WHH\",\"VCH\"]]\n",
    "    df_home_odds[\"AHO\"] = (df_home_odds[\"B365H\"] + df_home_odds[\"BWH\"] + df_home_odds[\"IWH\"] + df_home_odds[\"WHH\"] + df_home_odds[\"VCH\"])/5\n",
    "    return df_home_odds"
   ]
  },
  {
   "cell_type": "code",
   "execution_count": 17,
   "id": "993a4f66",
   "metadata": {},
   "outputs": [
    {
     "name": "stderr",
     "output_type": "stream",
     "text": [
      "/var/folders/yl/5r30hf2x3zs_3212qnlvh06r0000gn/T/ipykernel_19016/2997421864.py:5: SettingWithCopyWarning: \n",
      "A value is trying to be set on a copy of a slice from a DataFrame.\n",
      "Try using .loc[row_indexer,col_indexer] = value instead\n",
      "\n",
      "See the caveats in the documentation: https://pandas.pydata.org/pandas-docs/stable/user_guide/indexing.html#returning-a-view-versus-a-copy\n",
      "  df_home_odds[\"AHO\"] = (df_home_odds[\"B365H\"] + df_home_odds[\"BWH\"] + df_home_odds[\"IWH\"] + df_home_odds[\"WHH\"] + df_home_odds[\"VCH\"])/5\n"
     ]
    }
   ],
   "source": [
    "df_home_odds = get_home_odds(df_odds)"
   ]
  },
  {
   "cell_type": "code",
   "execution_count": 18,
   "id": "3abb69c8",
   "metadata": {},
   "outputs": [
    {
     "data": {
      "text/html": [
       "<div>\n",
       "<style scoped>\n",
       "    .dataframe tbody tr th:only-of-type {\n",
       "        vertical-align: middle;\n",
       "    }\n",
       "\n",
       "    .dataframe tbody tr th {\n",
       "        vertical-align: top;\n",
       "    }\n",
       "\n",
       "    .dataframe thead th {\n",
       "        text-align: right;\n",
       "    }\n",
       "</style>\n",
       "<table border=\"1\" class=\"dataframe\">\n",
       "  <thead>\n",
       "    <tr style=\"text-align: right;\">\n",
       "      <th></th>\n",
       "      <th>B365H</th>\n",
       "      <th>BWH</th>\n",
       "      <th>IWH</th>\n",
       "      <th>WHH</th>\n",
       "      <th>VCH</th>\n",
       "      <th>AHO</th>\n",
       "    </tr>\n",
       "  </thead>\n",
       "  <tbody>\n",
       "    <tr>\n",
       "      <th>0</th>\n",
       "      <td>4.20</td>\n",
       "      <td>4.33</td>\n",
       "      <td>4.30</td>\n",
       "      <td>4.40</td>\n",
       "      <td>4.60</td>\n",
       "      <td>4.366</td>\n",
       "    </tr>\n",
       "    <tr>\n",
       "      <th>1</th>\n",
       "      <td>11.00</td>\n",
       "      <td>10.00</td>\n",
       "      <td>12.00</td>\n",
       "      <td>12.00</td>\n",
       "      <td>13.00</td>\n",
       "      <td>11.600</td>\n",
       "    </tr>\n",
       "    <tr>\n",
       "      <th>2</th>\n",
       "      <td>3.75</td>\n",
       "      <td>3.75</td>\n",
       "      <td>3.65</td>\n",
       "      <td>3.75</td>\n",
       "      <td>3.75</td>\n",
       "      <td>3.730</td>\n",
       "    </tr>\n",
       "    <tr>\n",
       "      <th>3</th>\n",
       "      <td>2.25</td>\n",
       "      <td>2.30</td>\n",
       "      <td>2.30</td>\n",
       "      <td>2.25</td>\n",
       "      <td>2.30</td>\n",
       "      <td>2.280</td>\n",
       "    </tr>\n",
       "    <tr>\n",
       "      <th>4</th>\n",
       "      <td>1.66</td>\n",
       "      <td>1.65</td>\n",
       "      <td>1.65</td>\n",
       "      <td>1.67</td>\n",
       "      <td>1.62</td>\n",
       "      <td>1.650</td>\n",
       "    </tr>\n",
       "  </tbody>\n",
       "</table>\n",
       "</div>"
      ],
      "text/plain": [
       "   B365H    BWH    IWH    WHH    VCH     AHO\n",
       "0   4.20   4.33   4.30   4.40   4.60   4.366\n",
       "1  11.00  10.00  12.00  12.00  13.00  11.600\n",
       "2   3.75   3.75   3.65   3.75   3.75   3.730\n",
       "3   2.25   2.30   2.30   2.25   2.30   2.280\n",
       "4   1.66   1.65   1.65   1.67   1.62   1.650"
      ]
     },
     "execution_count": 18,
     "metadata": {},
     "output_type": "execute_result"
    }
   ],
   "source": [
    "df_home_odds.head()"
   ]
  },
  {
   "cell_type": "code",
   "execution_count": 19,
   "id": "99c1a480",
   "metadata": {},
   "outputs": [],
   "source": [
    "def get_away_odds(df):\n",
    "    df_odds = df[[\"B365H\", \"B365D\", \"B365A\", \"BWH\", \"BWD\", \"BWA\", \"IWH\", \"IWD\",\\\n",
    "    \"IWA\", \"PSH\", \"PSD\", \"PSA\", \"WHH\", \"WHD\", \"WHA\", \"VCH\", \"VCD\", \"VCA\",]]\n",
    "    df_away_odds = df_odds[[\"B365A\",\"BWA\",\"IWA\",\"WHA\",\"VCA\"]]\n",
    "    df_away_odds[\"AAO\"] = (df_away_odds[\"B365A\"] + df_away_odds[\"BWA\"] + df_away_odds[\"IWA\"] + df_away_odds[\"WHA\"] + df_away_odds[\"VCA\"])/5\n",
    "    return df_away_odds"
   ]
  },
  {
   "cell_type": "code",
   "execution_count": 20,
   "id": "b3e2d8df",
   "metadata": {},
   "outputs": [
    {
     "name": "stderr",
     "output_type": "stream",
     "text": [
      "/var/folders/yl/5r30hf2x3zs_3212qnlvh06r0000gn/T/ipykernel_19016/2056715440.py:5: SettingWithCopyWarning: \n",
      "A value is trying to be set on a copy of a slice from a DataFrame.\n",
      "Try using .loc[row_indexer,col_indexer] = value instead\n",
      "\n",
      "See the caveats in the documentation: https://pandas.pydata.org/pandas-docs/stable/user_guide/indexing.html#returning-a-view-versus-a-copy\n",
      "  df_away_odds[\"AAO\"] = (df_away_odds[\"B365A\"] + df_away_odds[\"BWA\"] + df_away_odds[\"IWA\"] + df_away_odds[\"WHA\"] + df_away_odds[\"VCA\"])/5\n"
     ]
    },
    {
     "data": {
      "text/html": [
       "<div>\n",
       "<style scoped>\n",
       "    .dataframe tbody tr th:only-of-type {\n",
       "        vertical-align: middle;\n",
       "    }\n",
       "\n",
       "    .dataframe tbody tr th {\n",
       "        vertical-align: top;\n",
       "    }\n",
       "\n",
       "    .dataframe thead th {\n",
       "        text-align: right;\n",
       "    }\n",
       "</style>\n",
       "<table border=\"1\" class=\"dataframe\">\n",
       "  <thead>\n",
       "    <tr style=\"text-align: right;\">\n",
       "      <th></th>\n",
       "      <th>B365A</th>\n",
       "      <th>BWA</th>\n",
       "      <th>IWA</th>\n",
       "      <th>WHA</th>\n",
       "      <th>VCA</th>\n",
       "      <th>AAO</th>\n",
       "    </tr>\n",
       "  </thead>\n",
       "  <tbody>\n",
       "    <tr>\n",
       "      <th>0</th>\n",
       "      <td>1.85</td>\n",
       "      <td>1.87</td>\n",
       "      <td>1.85</td>\n",
       "      <td>1.83</td>\n",
       "      <td>1.87</td>\n",
       "      <td>1.854</td>\n",
       "    </tr>\n",
       "    <tr>\n",
       "      <th>1</th>\n",
       "      <td>1.25</td>\n",
       "      <td>1.28</td>\n",
       "      <td>1.27</td>\n",
       "      <td>1.27</td>\n",
       "      <td>1.25</td>\n",
       "      <td>1.264</td>\n",
       "    </tr>\n",
       "    <tr>\n",
       "      <th>2</th>\n",
       "      <td>2.00</td>\n",
       "      <td>2.00</td>\n",
       "      <td>2.05</td>\n",
       "      <td>2.05</td>\n",
       "      <td>2.00</td>\n",
       "      <td>2.020</td>\n",
       "    </tr>\n",
       "    <tr>\n",
       "      <th>3</th>\n",
       "      <td>3.20</td>\n",
       "      <td>2.95</td>\n",
       "      <td>3.15</td>\n",
       "      <td>3.20</td>\n",
       "      <td>3.10</td>\n",
       "      <td>3.120</td>\n",
       "    </tr>\n",
       "    <tr>\n",
       "      <th>4</th>\n",
       "      <td>5.25</td>\n",
       "      <td>5.50</td>\n",
       "      <td>5.50</td>\n",
       "      <td>5.25</td>\n",
       "      <td>5.50</td>\n",
       "      <td>5.400</td>\n",
       "    </tr>\n",
       "  </tbody>\n",
       "</table>\n",
       "</div>"
      ],
      "text/plain": [
       "   B365A   BWA   IWA   WHA   VCA    AAO\n",
       "0   1.85  1.87  1.85  1.83  1.87  1.854\n",
       "1   1.25  1.28  1.27  1.27  1.25  1.264\n",
       "2   2.00  2.00  2.05  2.05  2.00  2.020\n",
       "3   3.20  2.95  3.15  3.20  3.10  3.120\n",
       "4   5.25  5.50  5.50  5.25  5.50  5.400"
      ]
     },
     "execution_count": 20,
     "metadata": {},
     "output_type": "execute_result"
    }
   ],
   "source": [
    "df_away_odds = get_away_odds(df_odds)\n",
    "df_away_odds.head()"
   ]
  },
  {
   "cell_type": "code",
   "execution_count": 22,
   "id": "b1671ac2",
   "metadata": {},
   "outputs": [
    {
     "data": {
      "text/html": [
       "<div>\n",
       "<style scoped>\n",
       "    .dataframe tbody tr th:only-of-type {\n",
       "        vertical-align: middle;\n",
       "    }\n",
       "\n",
       "    .dataframe tbody tr th {\n",
       "        vertical-align: top;\n",
       "    }\n",
       "\n",
       "    .dataframe thead th {\n",
       "        text-align: right;\n",
       "    }\n",
       "</style>\n",
       "<table border=\"1\" class=\"dataframe\">\n",
       "  <thead>\n",
       "    <tr style=\"text-align: right;\">\n",
       "      <th></th>\n",
       "      <th>AHO</th>\n",
       "    </tr>\n",
       "  </thead>\n",
       "  <tbody>\n",
       "    <tr>\n",
       "      <th>0</th>\n",
       "      <td>4.366</td>\n",
       "    </tr>\n",
       "    <tr>\n",
       "      <th>1</th>\n",
       "      <td>11.600</td>\n",
       "    </tr>\n",
       "    <tr>\n",
       "      <th>2</th>\n",
       "      <td>3.730</td>\n",
       "    </tr>\n",
       "    <tr>\n",
       "      <th>3</th>\n",
       "      <td>2.280</td>\n",
       "    </tr>\n",
       "    <tr>\n",
       "      <th>4</th>\n",
       "      <td>1.650</td>\n",
       "    </tr>\n",
       "    <tr>\n",
       "      <th>...</th>\n",
       "      <td>...</td>\n",
       "    </tr>\n",
       "    <tr>\n",
       "      <th>375</th>\n",
       "      <td>1.674</td>\n",
       "    </tr>\n",
       "    <tr>\n",
       "      <th>376</th>\n",
       "      <td>1.200</td>\n",
       "    </tr>\n",
       "    <tr>\n",
       "      <th>377</th>\n",
       "      <td>2.820</td>\n",
       "    </tr>\n",
       "    <tr>\n",
       "      <th>378</th>\n",
       "      <td>4.870</td>\n",
       "    </tr>\n",
       "    <tr>\n",
       "      <th>379</th>\n",
       "      <td>4.160</td>\n",
       "    </tr>\n",
       "  </tbody>\n",
       "</table>\n",
       "<p>6711 rows × 1 columns</p>\n",
       "</div>"
      ],
      "text/plain": [
       "        AHO\n",
       "0     4.366\n",
       "1    11.600\n",
       "2     3.730\n",
       "3     2.280\n",
       "4     1.650\n",
       "..      ...\n",
       "375   1.674\n",
       "376   1.200\n",
       "377   2.820\n",
       "378   4.870\n",
       "379   4.160\n",
       "\n",
       "[6711 rows x 1 columns]"
      ]
     },
     "execution_count": 22,
     "metadata": {},
     "output_type": "execute_result"
    }
   ],
   "source": [
    "df_odds_final = df_home_odds[[\"AHO\"]]\n",
    "df_odds_final"
   ]
  },
  {
   "cell_type": "code",
   "execution_count": 23,
   "id": "4d40871b",
   "metadata": {},
   "outputs": [],
   "source": [
    "df_odds_final = df_odds_final.join(df_away_odds[[\"AAO\"]])"
   ]
  },
  {
   "cell_type": "code",
   "execution_count": 24,
   "id": "bd3cc5d4",
   "metadata": {},
   "outputs": [
    {
     "data": {
      "text/html": [
       "<div>\n",
       "<style scoped>\n",
       "    .dataframe tbody tr th:only-of-type {\n",
       "        vertical-align: middle;\n",
       "    }\n",
       "\n",
       "    .dataframe tbody tr th {\n",
       "        vertical-align: top;\n",
       "    }\n",
       "\n",
       "    .dataframe thead th {\n",
       "        text-align: right;\n",
       "    }\n",
       "</style>\n",
       "<table border=\"1\" class=\"dataframe\">\n",
       "  <thead>\n",
       "    <tr style=\"text-align: right;\">\n",
       "      <th></th>\n",
       "      <th>AHO</th>\n",
       "      <th>AAO</th>\n",
       "    </tr>\n",
       "  </thead>\n",
       "  <tbody>\n",
       "    <tr>\n",
       "      <th>0</th>\n",
       "      <td>4.366</td>\n",
       "      <td>1.854</td>\n",
       "    </tr>\n",
       "    <tr>\n",
       "      <th>0</th>\n",
       "      <td>4.366</td>\n",
       "      <td>1.970</td>\n",
       "    </tr>\n",
       "    <tr>\n",
       "      <th>0</th>\n",
       "      <td>4.366</td>\n",
       "      <td>1.550</td>\n",
       "    </tr>\n",
       "    <tr>\n",
       "      <th>0</th>\n",
       "      <td>4.366</td>\n",
       "      <td>19.900</td>\n",
       "    </tr>\n",
       "    <tr>\n",
       "      <th>0</th>\n",
       "      <td>4.366</td>\n",
       "      <td>7.000</td>\n",
       "    </tr>\n",
       "    <tr>\n",
       "      <th>...</th>\n",
       "      <td>...</td>\n",
       "      <td>...</td>\n",
       "    </tr>\n",
       "    <tr>\n",
       "      <th>379</th>\n",
       "      <td>4.160</td>\n",
       "      <td>3.480</td>\n",
       "    </tr>\n",
       "    <tr>\n",
       "      <th>379</th>\n",
       "      <td>4.160</td>\n",
       "      <td>1.214</td>\n",
       "    </tr>\n",
       "    <tr>\n",
       "      <th>379</th>\n",
       "      <td>4.160</td>\n",
       "      <td>2.484</td>\n",
       "    </tr>\n",
       "    <tr>\n",
       "      <th>379</th>\n",
       "      <td>4.160</td>\n",
       "      <td>1.734</td>\n",
       "    </tr>\n",
       "    <tr>\n",
       "      <th>380</th>\n",
       "      <td>NaN</td>\n",
       "      <td>NaN</td>\n",
       "    </tr>\n",
       "  </tbody>\n",
       "</table>\n",
       "<p>118571 rows × 2 columns</p>\n",
       "</div>"
      ],
      "text/plain": [
       "       AHO     AAO\n",
       "0    4.366   1.854\n",
       "0    4.366   1.970\n",
       "0    4.366   1.550\n",
       "0    4.366  19.900\n",
       "0    4.366   7.000\n",
       "..     ...     ...\n",
       "379  4.160   3.480\n",
       "379  4.160   1.214\n",
       "379  4.160   2.484\n",
       "379  4.160   1.734\n",
       "380    NaN     NaN\n",
       "\n",
       "[118571 rows x 2 columns]"
      ]
     },
     "execution_count": 24,
     "metadata": {},
     "output_type": "execute_result"
    }
   ],
   "source": [
    "df_odds_final"
   ]
  },
  {
   "cell_type": "code",
   "execution_count": 25,
   "id": "7961063e",
   "metadata": {},
   "outputs": [],
   "source": [
    "def get_odds_final(df):\n",
    "    df_odds = df[[\"B365H\", \"B365D\", \"B365A\", \"BWH\", \"BWD\", \"BWA\", \"IWH\", \"IWD\",\\\n",
    "    \"IWA\", \"PSH\", \"PSD\", \"PSA\", \"WHH\", \"WHD\", \"WHA\", \"VCH\", \"VCD\", \"VCA\",]]\n",
    "    df_home_odds = df_odds[[\"B365H\",\"BWH\",\"IWH\",\"WHH\",\"VCH\"]]\n",
    "    df_home_odds[\"AHO\"] = (df_home_odds[\"B365H\"] + df_home_odds[\"BWH\"] + df_home_odds[\"IWH\"] + df_home_odds[\"WHH\"] + df_home_odds[\"VCH\"])/5\n",
    "\n",
    "\n",
    "    df_away_odds = df_odds[[\"B365A\",\"BWA\",\"IWA\",\"WHA\",\"VCA\"]]\n",
    "    df_away_odds[\"AAO\"] = (df_away_odds[\"B365A\"] + df_away_odds[\"BWA\"] + df_away_odds[\"IWA\"] + df_away_odds[\"WHA\"] + df_away_odds[\"VCA\"])/5\n",
    "    df_odds_final = df_home_odds[[\"AHO\"]]\n",
    "    df_odds_final = df_odds_final.join(df_away_odds[[\"AAO\"]])\n",
    "    return df_odds_final\n"
   ]
  },
  {
   "cell_type": "code",
   "execution_count": 26,
   "id": "0ae18a6f",
   "metadata": {},
   "outputs": [
    {
     "name": "stderr",
     "output_type": "stream",
     "text": [
      "/var/folders/yl/5r30hf2x3zs_3212qnlvh06r0000gn/T/ipykernel_19016/2049981172.py:5: SettingWithCopyWarning: \n",
      "A value is trying to be set on a copy of a slice from a DataFrame.\n",
      "Try using .loc[row_indexer,col_indexer] = value instead\n",
      "\n",
      "See the caveats in the documentation: https://pandas.pydata.org/pandas-docs/stable/user_guide/indexing.html#returning-a-view-versus-a-copy\n",
      "  df_home_odds[\"AHO\"] = (df_home_odds[\"B365H\"] + df_home_odds[\"BWH\"] + df_home_odds[\"IWH\"] + df_home_odds[\"WHH\"] + df_home_odds[\"VCH\"])/5\n",
      "/var/folders/yl/5r30hf2x3zs_3212qnlvh06r0000gn/T/ipykernel_19016/2049981172.py:9: SettingWithCopyWarning: \n",
      "A value is trying to be set on a copy of a slice from a DataFrame.\n",
      "Try using .loc[row_indexer,col_indexer] = value instead\n",
      "\n",
      "See the caveats in the documentation: https://pandas.pydata.org/pandas-docs/stable/user_guide/indexing.html#returning-a-view-versus-a-copy\n",
      "  df_away_odds[\"AAO\"] = (df_away_odds[\"B365A\"] + df_away_odds[\"BWA\"] + df_away_odds[\"IWA\"] + df_away_odds[\"WHA\"] + df_away_odds[\"VCA\"])/5\n"
     ]
    }
   ],
   "source": [
    "df_test = get_odds_final(df)"
   ]
  },
  {
   "cell_type": "code",
   "execution_count": 27,
   "id": "e648fc2c",
   "metadata": {},
   "outputs": [
    {
     "data": {
      "text/html": [
       "<div>\n",
       "<style scoped>\n",
       "    .dataframe tbody tr th:only-of-type {\n",
       "        vertical-align: middle;\n",
       "    }\n",
       "\n",
       "    .dataframe tbody tr th {\n",
       "        vertical-align: top;\n",
       "    }\n",
       "\n",
       "    .dataframe thead th {\n",
       "        text-align: right;\n",
       "    }\n",
       "</style>\n",
       "<table border=\"1\" class=\"dataframe\">\n",
       "  <thead>\n",
       "    <tr style=\"text-align: right;\">\n",
       "      <th></th>\n",
       "      <th>AHO</th>\n",
       "      <th>AAO</th>\n",
       "    </tr>\n",
       "  </thead>\n",
       "  <tbody>\n",
       "    <tr>\n",
       "      <th>0</th>\n",
       "      <td>4.366</td>\n",
       "      <td>1.854</td>\n",
       "    </tr>\n",
       "    <tr>\n",
       "      <th>0</th>\n",
       "      <td>4.366</td>\n",
       "      <td>1.970</td>\n",
       "    </tr>\n",
       "    <tr>\n",
       "      <th>0</th>\n",
       "      <td>4.366</td>\n",
       "      <td>1.550</td>\n",
       "    </tr>\n",
       "    <tr>\n",
       "      <th>0</th>\n",
       "      <td>4.366</td>\n",
       "      <td>19.900</td>\n",
       "    </tr>\n",
       "    <tr>\n",
       "      <th>0</th>\n",
       "      <td>4.366</td>\n",
       "      <td>7.000</td>\n",
       "    </tr>\n",
       "  </tbody>\n",
       "</table>\n",
       "</div>"
      ],
      "text/plain": [
       "     AHO     AAO\n",
       "0  4.366   1.854\n",
       "0  4.366   1.970\n",
       "0  4.366   1.550\n",
       "0  4.366  19.900\n",
       "0  4.366   7.000"
      ]
     },
     "execution_count": 27,
     "metadata": {},
     "output_type": "execute_result"
    }
   ],
   "source": [
    "df_test.head()"
   ]
  }
 ],
 "metadata": {
  "kernelspec": {
   "display_name": "lewagon",
   "language": "python",
   "name": "python3"
  },
  "language_info": {
   "codemirror_mode": {
    "name": "ipython",
    "version": 3
   },
   "file_extension": ".py",
   "mimetype": "text/x-python",
   "name": "python",
   "nbconvert_exporter": "python",
   "pygments_lexer": "ipython3",
   "version": "3.10.6"
  },
  "toc": {
   "base_numbering": 1,
   "nav_menu": {},
   "number_sections": true,
   "sideBar": true,
   "skip_h1_title": false,
   "title_cell": "Table of Contents",
   "title_sidebar": "Contents",
   "toc_cell": false,
   "toc_position": {},
   "toc_section_display": true,
   "toc_window_display": false
  },
  "varInspector": {
   "cols": {
    "lenName": 16,
    "lenType": 16,
    "lenVar": 40
   },
   "kernels_config": {
    "python": {
     "delete_cmd_postfix": "",
     "delete_cmd_prefix": "del ",
     "library": "var_list.py",
     "varRefreshCmd": "print(var_dic_list())"
    },
    "r": {
     "delete_cmd_postfix": ") ",
     "delete_cmd_prefix": "rm(",
     "library": "var_list.r",
     "varRefreshCmd": "cat(var_dic_list()) "
    }
   },
   "types_to_exclude": [
    "module",
    "function",
    "builtin_function_or_method",
    "instance",
    "_Feature"
   ],
   "window_display": false
  },
  "vscode": {
   "interpreter": {
    "hash": "88441df6dc0ea2031752054bd01a5295fbf124745ed7d3413744a31eae37f0b1"
   }
  }
 },
 "nbformat": 4,
 "nbformat_minor": 5
}

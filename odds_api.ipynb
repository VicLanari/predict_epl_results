{
 "cells": [
  {
   "cell_type": "code",
   "execution_count": 1,
   "metadata": {},
   "outputs": [],
   "source": []
  },
  {
   "cell_type": "code",
   "execution_count": 49,
   "metadata": {},
   "outputs": [],
   "source": [
    "import requests\n",
    "import pandas as pd"
   ]
  },
  {
   "cell_type": "code",
   "execution_count": 67,
   "metadata": {},
   "outputs": [],
   "source": [
    "response = requests.get(\"https://api.the-odds-api.com/v4/sports/soccer_epl/odds/?apiKey=9e29e8b8f5b104d542cf0d53ac0b8327&regions=eu&markets=h2h,spreads&oddsFormat=decimal\").json()"
   ]
  },
  {
   "cell_type": "code",
   "execution_count": 68,
   "metadata": {},
   "outputs": [
    {
     "name": "stdout",
     "output_type": "stream",
     "text": [
      "[['Bournemouth', 'Liverpool', 7.046153846153846, 1.4546153846153844], ['Everton', 'Brentford', 2.8176923076923077, 2.727692307692308], ['Leeds United', 'Brighton and Hove Albion', 1.9853846153846153, 3.859230769230769], ['Leicester City', 'Chelsea', 2.008461538461538, 3.9099999999999997], ['Tottenham Hotspur', 'Nottingham Forest', 7.9423076923076925, 1.433846153846154], ['Crystal Palace', 'Manchester City', 9.276153846153846, 1.3699999999999999], ['Fulham', 'Arsenal', 1.5961538461538463, 5.897692307692308], ['West Ham United', 'Aston Villa', 3.4107692307692306, 2.2530769230769234], ['Manchester United', 'Southampton', 1.3569230769230767, 9.160769230769231], ['Newcastle United', 'Wolverhampton Wanderers', 1.689230769230769, 5.488461538461539]]\n"
     ]
    }
   ],
   "source": [
    "import numpy as np\n",
    "games = response[:10]\n",
    "\n",
    "final_lis = []\n",
    "for game in games:\n",
    "    lis = []\n",
    "    home_team = game['home_team']\n",
    "    lis.append(home_team)\n",
    "    away_team = game['away_team']\n",
    "    lis.append(away_team)\n",
    "    final_home_odds = []\n",
    "    final_away_odds = []\n",
    "    for i in range(len(game['bookmakers'])):\n",
    "        home_odds = game['bookmakers'][i]['markets'][0]['outcomes'][0]['price']\n",
    "        away_odds = game['bookmakers'][i]['markets'][0]['outcomes'][1]['price']\n",
    "        final_home_odds.append(home_odds)\n",
    "        final_away_odds.append(away_odds)\n",
    "    lis.append(np.mean(final_home_odds))\n",
    "    lis.append(np.mean(final_away_odds))\n",
    "    final_lis.append(lis)\n",
    "print(final_lis)"
   ]
  },
  {
   "cell_type": "code",
   "execution_count": 50,
   "metadata": {},
   "outputs": [
    {
     "data": {
      "text/html": [
       "<div>\n",
       "<style scoped>\n",
       "    .dataframe tbody tr th:only-of-type {\n",
       "        vertical-align: middle;\n",
       "    }\n",
       "\n",
       "    .dataframe tbody tr th {\n",
       "        vertical-align: top;\n",
       "    }\n",
       "\n",
       "    .dataframe thead th {\n",
       "        text-align: right;\n",
       "    }\n",
       "</style>\n",
       "<table border=\"1\" class=\"dataframe\">\n",
       "  <thead>\n",
       "    <tr style=\"text-align: right;\">\n",
       "      <th></th>\n",
       "      <th>HT</th>\n",
       "      <th>AT</th>\n",
       "      <th>AHO</th>\n",
       "      <th>AAO</th>\n",
       "    </tr>\n",
       "  </thead>\n",
       "  <tbody>\n",
       "    <tr>\n",
       "      <th>0</th>\n",
       "      <td>Bournemouth</td>\n",
       "      <td>Liverpool</td>\n",
       "      <td>6.980000</td>\n",
       "      <td>1.455000</td>\n",
       "    </tr>\n",
       "    <tr>\n",
       "      <th>1</th>\n",
       "      <td>Everton</td>\n",
       "      <td>Brentford</td>\n",
       "      <td>2.807143</td>\n",
       "      <td>2.725714</td>\n",
       "    </tr>\n",
       "    <tr>\n",
       "      <th>2</th>\n",
       "      <td>Leeds United</td>\n",
       "      <td>Brighton and Hove Albion</td>\n",
       "      <td>1.985714</td>\n",
       "      <td>3.847857</td>\n",
       "    </tr>\n",
       "    <tr>\n",
       "      <th>3</th>\n",
       "      <td>Leicester City</td>\n",
       "      <td>Chelsea</td>\n",
       "      <td>2.007857</td>\n",
       "      <td>3.894286</td>\n",
       "    </tr>\n",
       "    <tr>\n",
       "      <th>4</th>\n",
       "      <td>Tottenham Hotspur</td>\n",
       "      <td>Nottingham Forest</td>\n",
       "      <td>7.946429</td>\n",
       "      <td>1.431429</td>\n",
       "    </tr>\n",
       "    <tr>\n",
       "      <th>5</th>\n",
       "      <td>Crystal Palace</td>\n",
       "      <td>Manchester City</td>\n",
       "      <td>9.290000</td>\n",
       "      <td>1.365714</td>\n",
       "    </tr>\n",
       "    <tr>\n",
       "      <th>6</th>\n",
       "      <td>Fulham</td>\n",
       "      <td>Arsenal</td>\n",
       "      <td>1.595714</td>\n",
       "      <td>5.890714</td>\n",
       "    </tr>\n",
       "    <tr>\n",
       "      <th>7</th>\n",
       "      <td>West Ham United</td>\n",
       "      <td>Aston Villa</td>\n",
       "      <td>3.402857</td>\n",
       "      <td>2.249286</td>\n",
       "    </tr>\n",
       "    <tr>\n",
       "      <th>8</th>\n",
       "      <td>Manchester United</td>\n",
       "      <td>Southampton</td>\n",
       "      <td>1.357143</td>\n",
       "      <td>9.060714</td>\n",
       "    </tr>\n",
       "    <tr>\n",
       "      <th>9</th>\n",
       "      <td>Newcastle United</td>\n",
       "      <td>Wolverhampton Wanderers</td>\n",
       "      <td>1.687857</td>\n",
       "      <td>5.489286</td>\n",
       "    </tr>\n",
       "  </tbody>\n",
       "</table>\n",
       "</div>"
      ],
      "text/plain": [
       "                  HT                        AT       AHO       AAO\n",
       "0        Bournemouth                 Liverpool  6.980000  1.455000\n",
       "1            Everton                 Brentford  2.807143  2.725714\n",
       "2       Leeds United  Brighton and Hove Albion  1.985714  3.847857\n",
       "3     Leicester City                   Chelsea  2.007857  3.894286\n",
       "4  Tottenham Hotspur         Nottingham Forest  7.946429  1.431429\n",
       "5     Crystal Palace           Manchester City  9.290000  1.365714\n",
       "6             Fulham                   Arsenal  1.595714  5.890714\n",
       "7    West Ham United               Aston Villa  3.402857  2.249286\n",
       "8  Manchester United               Southampton  1.357143  9.060714\n",
       "9   Newcastle United   Wolverhampton Wanderers  1.687857  5.489286"
      ]
     },
     "execution_count": 50,
     "metadata": {},
     "output_type": "execute_result"
    }
   ],
   "source": [
    "df = pd.DataFrame(data=final_lis, columns=['HT', 'AT', 'AHO', 'AAO'])\n",
    "df"
   ]
  },
  {
   "cell_type": "code",
   "execution_count": 38,
   "metadata": {},
   "outputs": [
    {
     "name": "stdout",
     "output_type": "stream",
     "text": [
      "Bournemouth\n",
      "Everton\n",
      "Leeds United\n",
      "Leicester City\n",
      "Tottenham Hotspur\n",
      "Crystal Palace\n",
      "Fulham\n",
      "West Ham United\n",
      "Manchester United\n",
      "Newcastle United\n"
     ]
    }
   ],
   "source": [
    "for game in games:\n",
    "    print(game['home_team'])"
   ]
  },
  {
   "cell_type": "code",
   "execution_count": 45,
   "metadata": {},
   "outputs": [
    {
     "data": {
      "text/plain": [
       "{'id': '4226d58bf3fa9afa94a35f95aa361988',\n",
       " 'sport_key': 'soccer_epl',\n",
       " 'sport_title': 'EPL',\n",
       " 'commence_time': '2023-03-11T12:30:00Z',\n",
       " 'home_team': 'Bournemouth',\n",
       " 'away_team': 'Liverpool',\n",
       " 'bookmakers': [{'key': 'betclic',\n",
       "   'title': 'Betclic',\n",
       "   'last_update': '2023-03-09T14:31:29Z',\n",
       "   'markets': [{'key': 'h2h',\n",
       "     'last_update': '2023-03-09T14:31:29Z',\n",
       "     'outcomes': [{'name': 'Bournemouth', 'price': 6.6},\n",
       "      {'name': 'Liverpool', 'price': 1.44},\n",
       "      {'name': 'Draw', 'price': 4.85}]}]},\n",
       "  {'key': 'mybookieag',\n",
       "   'title': 'MyBookie.ag',\n",
       "   'last_update': '2023-03-09T14:29:37Z',\n",
       "   'markets': [{'key': 'h2h',\n",
       "     'last_update': '2023-03-09T14:29:37Z',\n",
       "     'outcomes': [{'name': 'Bournemouth', 'price': 6.6},\n",
       "      {'name': 'Liverpool', 'price': 1.45},\n",
       "      {'name': 'Draw', 'price': 4.9}]},\n",
       "    {'key': 'spreads',\n",
       "     'last_update': '2023-03-09T14:29:37Z',\n",
       "     'outcomes': [{'name': 'Bournemouth', 'price': 1.68, 'point': 1.5},\n",
       "      {'name': 'Liverpool', 'price': 2.15, 'point': -1.5}]}]},\n",
       "  {'key': 'pinnacle',\n",
       "   'title': 'Pinnacle',\n",
       "   'last_update': '2023-03-09T14:31:29Z',\n",
       "   'markets': [{'key': 'h2h',\n",
       "     'last_update': '2023-03-09T14:31:29Z',\n",
       "     'outcomes': [{'name': 'Bournemouth', 'price': 6.67},\n",
       "      {'name': 'Liverpool', 'price': 1.46},\n",
       "      {'name': 'Draw', 'price': 5.03}]},\n",
       "    {'key': 'spreads',\n",
       "     'last_update': '2023-03-09T14:31:29Z',\n",
       "     'outcomes': [{'name': 'Bournemouth', 'price': 1.89, 'point': 1.25},\n",
       "      {'name': 'Liverpool', 'price': 2.01, 'point': -1.25}]}]},\n",
       "  {'key': 'marathonbet',\n",
       "   'title': 'Marathon Bet',\n",
       "   'last_update': '2023-03-09T14:25:59Z',\n",
       "   'markets': [{'key': 'h2h',\n",
       "     'last_update': '2023-03-09T14:25:59Z',\n",
       "     'outcomes': [{'name': 'Bournemouth', 'price': 6.75},\n",
       "      {'name': 'Liverpool', 'price': 1.44},\n",
       "      {'name': 'Draw', 'price': 4.8}]}]},\n",
       "  {'key': 'betfair',\n",
       "   'title': 'Betfair',\n",
       "   'last_update': '2023-03-09T14:29:39Z',\n",
       "   'markets': [{'key': 'h2h',\n",
       "     'last_update': '2023-03-09T14:29:39Z',\n",
       "     'outcomes': [{'name': 'Bournemouth', 'price': 7.6},\n",
       "      {'name': 'Liverpool', 'price': 1.47},\n",
       "      {'name': 'Draw', 'price': 5.1}]},\n",
       "    {'key': 'h2h_lay',\n",
       "     'last_update': '2023-03-09T14:29:39Z',\n",
       "     'outcomes': [{'name': 'Bournemouth', 'price': 8.0},\n",
       "      {'name': 'Liverpool', 'price': 1.48},\n",
       "      {'name': 'Draw', 'price': 5.2}]}]},\n",
       "  {'key': 'sport888',\n",
       "   'title': '888sport',\n",
       "   'last_update': '2023-03-09T14:27:31Z',\n",
       "   'markets': [{'key': 'h2h',\n",
       "     'last_update': '2023-03-09T14:27:31Z',\n",
       "     'outcomes': [{'name': 'Bournemouth', 'price': 6.75},\n",
       "      {'name': 'Liverpool', 'price': 1.44},\n",
       "      {'name': 'Draw', 'price': 4.7}]}]},\n",
       "  {'key': 'onexbet',\n",
       "   'title': '1xBet',\n",
       "   'last_update': '2023-03-09T14:24:53Z',\n",
       "   'markets': [{'key': 'h2h',\n",
       "     'last_update': '2023-03-09T14:24:53Z',\n",
       "     'outcomes': [{'name': 'Bournemouth', 'price': 6.95},\n",
       "      {'name': 'Liverpool', 'price': 1.49},\n",
       "      {'name': 'Draw', 'price': 4.96}]},\n",
       "    {'key': 'spreads',\n",
       "     'last_update': '2023-03-09T14:24:53Z',\n",
       "     'outcomes': [{'name': 'Bournemouth', 'price': 1.75, 'point': 1.5},\n",
       "      {'name': 'Liverpool', 'price': 2.25, 'point': -1.5}]}]},\n",
       "  {'key': 'suprabets',\n",
       "   'title': 'Suprabets',\n",
       "   'last_update': '2023-03-09T14:31:11Z',\n",
       "   'markets': [{'key': 'h2h',\n",
       "     'last_update': '2023-03-09T14:31:11Z',\n",
       "     'outcomes': [{'name': 'Bournemouth', 'price': 6.9},\n",
       "      {'name': 'Liverpool', 'price': 1.48},\n",
       "      {'name': 'Draw', 'price': 5.3}]}]},\n",
       "  {'key': 'williamhill',\n",
       "   'title': 'William Hill',\n",
       "   'last_update': '2023-03-09T14:28:08Z',\n",
       "   'markets': [{'key': 'h2h',\n",
       "     'last_update': '2023-03-09T14:28:08Z',\n",
       "     'outcomes': [{'name': 'Bournemouth', 'price': 6.5},\n",
       "      {'name': 'Liverpool', 'price': 1.44},\n",
       "      {'name': 'Draw', 'price': 4.6}]}]},\n",
       "  {'key': 'unibet_eu',\n",
       "   'title': 'Unibet',\n",
       "   'last_update': '2023-03-09T14:29:37Z',\n",
       "   'markets': [{'key': 'h2h',\n",
       "     'last_update': '2023-03-09T14:29:37Z',\n",
       "     'outcomes': [{'name': 'Bournemouth', 'price': 6.75},\n",
       "      {'name': 'Liverpool', 'price': 1.49},\n",
       "      {'name': 'Draw', 'price': 5.1}]}]},\n",
       "  {'key': 'betsson',\n",
       "   'title': 'Betsson',\n",
       "   'last_update': '2023-03-09T14:28:08Z',\n",
       "   'markets': [{'key': 'h2h',\n",
       "     'last_update': '2023-03-09T14:28:08Z',\n",
       "     'outcomes': [{'name': 'Bournemouth', 'price': 7.3},\n",
       "      {'name': 'Liverpool', 'price': 1.44},\n",
       "      {'name': 'Draw', 'price': 5.05}]}]},\n",
       "  {'key': 'nordicbet',\n",
       "   'title': 'Nordic Bet',\n",
       "   'last_update': '2023-03-09T14:28:08Z',\n",
       "   'markets': [{'key': 'h2h',\n",
       "     'last_update': '2023-03-09T14:28:08Z',\n",
       "     'outcomes': [{'name': 'Bournemouth', 'price': 7.3},\n",
       "      {'name': 'Liverpool', 'price': 1.44},\n",
       "      {'name': 'Draw', 'price': 5.05}]}]},\n",
       "  {'key': 'matchbook',\n",
       "   'title': 'Matchbook',\n",
       "   'last_update': '2023-03-09T14:31:11Z',\n",
       "   'markets': [{'key': 'h2h',\n",
       "     'last_update': '2023-03-09T14:31:11Z',\n",
       "     'outcomes': [{'name': 'Bournemouth', 'price': 7.6},\n",
       "      {'name': 'Liverpool', 'price': 1.47},\n",
       "      {'name': 'Draw', 'price': 5.1}]},\n",
       "    {'key': 'h2h_lay',\n",
       "     'last_update': '2023-03-09T14:31:11Z',\n",
       "     'outcomes': [{'name': 'Bournemouth', 'price': 8.0},\n",
       "      {'name': 'Liverpool', 'price': 1.48},\n",
       "      {'name': 'Draw', 'price': 5.2}]},\n",
       "    {'key': 'spreads',\n",
       "     'last_update': '2023-03-09T14:31:11Z',\n",
       "     'outcomes': [{'name': 'Bournemouth', 'price': 1.74, 'point': 1.5},\n",
       "      {'name': 'Liverpool', 'price': 2.28, 'point': -1.5}]}]},\n",
       "  {'key': 'betonlineag',\n",
       "   'title': 'BetOnline.ag',\n",
       "   'last_update': '2023-03-09T14:31:29Z',\n",
       "   'markets': [{'key': 'h2h',\n",
       "     'last_update': '2023-03-09T14:31:29Z',\n",
       "     'outcomes': [{'name': 'Bournemouth', 'price': 7.45},\n",
       "      {'name': 'Liverpool', 'price': 1.42},\n",
       "      {'name': 'Draw', 'price': 5.0}]},\n",
       "    {'key': 'spreads',\n",
       "     'last_update': '2023-03-09T14:31:29Z',\n",
       "     'outcomes': [{'name': 'Bournemouth', 'price': 1.9, 'point': 1.25},\n",
       "      {'name': 'Liverpool', 'price': 1.94, 'point': -1.25}]}]}]}"
      ]
     },
     "execution_count": 45,
     "metadata": {},
     "output_type": "execute_result"
    }
   ],
   "source": [
    "response[0]"
   ]
  },
  {
   "cell_type": "code",
   "execution_count": 18,
   "metadata": {},
   "outputs": [
    {
     "data": {
      "text/plain": [
       "1.45"
      ]
     },
     "execution_count": 18,
     "metadata": {},
     "output_type": "execute_result"
    }
   ],
   "source": [
    "response[0]['bookmakers'][1]['markets'][0]['outcomes'][1]['price']"
   ]
  },
  {
   "cell_type": "code",
   "execution_count": 58,
   "metadata": {},
   "outputs": [],
   "source": [
    "ODDS_API_URL = \"https://api.the-odds-api.com/v4/sports/soccer_epl/odds/?apiKey=9e29e8b8f5b104d542cf0d53ac0b8327&regions=eu&markets=h2h,spreads&oddsFormat=decimal\"\n"
   ]
  },
  {
   "cell_type": "code",
   "execution_count": 132,
   "metadata": {},
   "outputs": [],
   "source": [
    "def get_odds():\n",
    "    response = requests.get(ODDS_API_URL).json()\n",
    "    games = response[:10]\n",
    "\n",
    "    final_lis = []\n",
    "    for game in games:\n",
    "        lis = []\n",
    "        home_team = game['home_team']\n",
    "        lis.append(home_team)\n",
    "        away_team = game['away_team']\n",
    "        lis.append(away_team)\n",
    "        final_home_odds = []\n",
    "        final_away_odds = []\n",
    "        for i in range(len(game['bookmakers'])):\n",
    "            home_odds = game['bookmakers'][i]['markets'][0]['outcomes'][0]['price']\n",
    "            away_odds = game['bookmakers'][i]['markets'][0]['outcomes'][1]['price']\n",
    "            final_home_odds.append(home_odds)\n",
    "            final_away_odds.append(away_odds)\n",
    "        lis.append(np.mean(final_home_odds))\n",
    "        lis.append(np.mean(final_away_odds))\n",
    "        final_lis.append(lis)\n",
    "        df = pd.DataFrame(data=final_lis, columns=['HT', 'AT', 'AHO', 'AAO'])\n",
    "        df['HT'] = df['HT'].replace(['Manchester United'], 'Man United')\n",
    "        df['HT'] = df['HT'].replace(['Manchester City'], 'Man City')\n",
    "        df['HT'] = df['HT'].replace(['Leicester City'], 'Leicester')\n",
    "        df['HT'] = df['HT'].replace(['Leeds United'], 'Leeds')\n",
    "        df['HT'] = df['HT'].replace(['Nottingham Forest'], \"Nott'm Forest\")\n",
    "        df['HT'] = df['HT'].replace(['Tottenham Hotspur'], \"Tottenham\")\n",
    "        df['HT'] = df['HT'].replace(['Wolverhampton Wanderers'], \"Wolves\")\n",
    "        df['HT'] = df['HT'].replace(['West Ham United'], \"West Ham\")\n",
    "        df['HT'] = df['HT'].replace(['Newcastle United'], \"Newcastle\")\n",
    "        df['HT'] = df['HT'].replace(['Brighton and Hove Albion'], \"Brighton\")\n",
    "        df['AT'] = df['AT'].replace(['Manchester United'], 'Man United')\n",
    "        df['AT'] = df['AT'].replace(['Manchester City'], 'Man City')\n",
    "        df['AT'] = df['AT'].replace(['Leicester City'], 'Leicester')\n",
    "        df['AT'] = df['AT'].replace(['Leeds United'], 'Leeds')\n",
    "        df['AT'] = df['AT'].replace(['Nottingham Forest'], \"Nott'm Forest\")\n",
    "        df['AT'] = df['AT'].replace(['Tottenham Hotspur'], \"Tottenham\")\n",
    "        df['AT'] = df['AT'].replace(['Wolverhampton Wanderers'], \"Wolves\")\n",
    "        df['AT'] = df['AT'].replace(['West Ham United'], \"West Ham\")\n",
    "        df['AT'] = df['AT'].replace(['Newcastle United'], \"Newcastle\")\n",
    "        df['AT'] = df['AT'].replace(['Brighton and Hove Albion'], \"Brighton\")\n",
    "    return df"
   ]
  },
  {
   "cell_type": "code",
   "execution_count": 137,
   "metadata": {},
   "outputs": [],
   "source": [
    "def stats_x_new(home_team, away_team):\n",
    "    LINKS = [\"mmz4281/2223/E0.csv\",\n",
    "             \"mmz4281/2122/E0.csv\"]\n",
    "    df = pd.DataFrame()\n",
    "    for link in LINKS:\n",
    "        df = pd.concat([df, pd.read_csv(f\"https://www.football-data.co.uk/{link}\")]).reset_index(drop=True)\n",
    "    df['THC'] = df['HY'] + df['HR']\n",
    "    df['TAC'] = df['AY'] + df['AR']\n",
    "    home_cols = ['HST', 'HC', 'THC']\n",
    "    away_cols = ['AST', 'AC', 'TAC']\n",
    "    df_home = df.groupby(df['HomeTeam'])[home_cols].mean()\n",
    "    df_away = df.groupby(df['AwayTeam'])[away_cols].mean()\n",
    "    home_row = df_home.loc[df_home.index==home_team]\n",
    "    home_row = home_row.reset_index(drop=True)\n",
    "    away_row = df_away.loc[df_away.index==away_team]\n",
    "    away_row = away_row.reset_index(drop=True)\n",
    "    row_final = home_row.merge(away_row, left_index=True, right_index=True)\n",
    "    row_final = row_final.iloc[:, [3,0,1,4,2,5]]\n",
    "    odds = pd.DataFrame(get_odds())\n",
    "    print(odds)\n",
    "    home_odds = odds['AHO'].loc[odds['HT'] == home_team].values[0]\n",
    "    away_odds = odds['AAO'].loc[odds['AT'] == away_team].values[0]\n",
    "    row_final['AHO'] = home_odds\n",
    "    row_final['AAO'] = away_odds\n",
    "    return row_final"
   ]
  },
  {
   "cell_type": "code",
   "execution_count": 138,
   "metadata": {},
   "outputs": [
    {
     "name": "stdout",
     "output_type": "stream",
     "text": [
      "               HT             AT       AHO       AAO\n",
      "0     Bournemouth      Liverpool  7.007143  1.453571\n",
      "1         Everton      Brentford  2.809286  2.725714\n",
      "2           Leeds       Brighton  1.982857  3.847857\n",
      "3       Leicester        Chelsea  2.007857  3.895000\n",
      "4       Tottenham  Nott'm Forest  7.982143  1.430714\n",
      "5  Crystal Palace       Man City  9.274286  1.367857\n",
      "6          Fulham        Arsenal  1.594286  5.890714\n",
      "7        West Ham    Aston Villa  3.402857  2.249286\n",
      "8      Man United    Southampton  1.356429  9.113571\n",
      "9       Newcastle         Wolves  1.689286  5.482143\n"
     ]
    },
    {
     "data": {
      "text/html": [
       "<div>\n",
       "<style scoped>\n",
       "    .dataframe tbody tr th:only-of-type {\n",
       "        vertical-align: middle;\n",
       "    }\n",
       "\n",
       "    .dataframe tbody tr th {\n",
       "        vertical-align: top;\n",
       "    }\n",
       "\n",
       "    .dataframe thead th {\n",
       "        text-align: right;\n",
       "    }\n",
       "</style>\n",
       "<table border=\"1\" class=\"dataframe\">\n",
       "  <thead>\n",
       "    <tr style=\"text-align: right;\">\n",
       "      <th></th>\n",
       "      <th>AST</th>\n",
       "      <th>HST</th>\n",
       "      <th>HC</th>\n",
       "      <th>AC</th>\n",
       "      <th>THC</th>\n",
       "      <th>TAC</th>\n",
       "      <th>AHO</th>\n",
       "      <th>AAO</th>\n",
       "    </tr>\n",
       "  </thead>\n",
       "  <tbody>\n",
       "    <tr>\n",
       "      <th>0</th>\n",
       "      <td>3.866667</td>\n",
       "      <td>4.125</td>\n",
       "      <td>5.0625</td>\n",
       "      <td>3.933333</td>\n",
       "      <td>2.3125</td>\n",
       "      <td>1.6</td>\n",
       "      <td>2.809286</td>\n",
       "      <td>2.725714</td>\n",
       "    </tr>\n",
       "  </tbody>\n",
       "</table>\n",
       "</div>"
      ],
      "text/plain": [
       "        AST    HST      HC        AC     THC  TAC       AHO       AAO\n",
       "0  3.866667  4.125  5.0625  3.933333  2.3125  1.6  2.809286  2.725714"
      ]
     },
     "execution_count": 138,
     "metadata": {},
     "output_type": "execute_result"
    }
   ],
   "source": [
    "stats_x_new('Everton', 'Brentford')"
   ]
  },
  {
   "cell_type": "code",
   "execution_count": 133,
   "metadata": {},
   "outputs": [],
   "source": [
    "odds = get_odds()"
   ]
  },
  {
   "cell_type": "code",
   "execution_count": 141,
   "metadata": {},
   "outputs": [
    {
     "data": {
      "text/plain": [
       "['Bournemouth',\n",
       " 'Everton',\n",
       " 'Leeds',\n",
       " 'Leicester',\n",
       " 'Tottenham',\n",
       " 'Crystal Palace',\n",
       " 'Fulham',\n",
       " 'West Ham',\n",
       " 'Man United',\n",
       " 'Newcastle',\n",
       " ['Liverpool',\n",
       "  'Brentford',\n",
       "  'Brighton',\n",
       "  'Chelsea',\n",
       "  \"Nott'm Forest\",\n",
       "  'Man City',\n",
       "  'Arsenal',\n",
       "  'Aston Villa',\n",
       "  'Southampton',\n",
       "  'Wolves']]"
      ]
     },
     "execution_count": 141,
     "metadata": {},
     "output_type": "execute_result"
    }
   ],
   "source": [
    "hts = list(odds['HT'].unique())\n",
    "ats = list(odds['AT'].unique())\n",
    "ts = hts.append(ats)\n",
    "hts"
   ]
  },
  {
   "cell_type": "code",
   "execution_count": 81,
   "metadata": {},
   "outputs": [
    {
     "data": {
      "text/plain": [
       "5    9.292143\n",
       "Name: AHO, dtype: float64"
      ]
     },
     "execution_count": 81,
     "metadata": {},
     "output_type": "execute_result"
    }
   ],
   "source": [
    "odds['AHO'].loc[odds['HT'] == 'Crystal Palace']"
   ]
  }
 ],
 "metadata": {
  "kernelspec": {
   "display_name": "lewagon",
   "language": "python",
   "name": "python3"
  },
  "language_info": {
   "codemirror_mode": {
    "name": "ipython",
    "version": 3
   },
   "file_extension": ".py",
   "mimetype": "text/x-python",
   "name": "python",
   "nbconvert_exporter": "python",
   "pygments_lexer": "ipython3",
   "version": "3.10.6"
  },
  "orig_nbformat": 4
 },
 "nbformat": 4,
 "nbformat_minor": 2
}
